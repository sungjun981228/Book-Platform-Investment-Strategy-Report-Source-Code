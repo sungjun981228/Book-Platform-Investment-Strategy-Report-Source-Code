{
 "cells": [
  {
   "cell_type": "markdown",
   "id": "ea3d5d20",
   "metadata": {},
   "source": [
    "# 리뷰 데이터\n",
    "- 리뷰_교보베스트_최종.csv\n",
    "- 리뷰_교보비베스트_최종.csv\n",
    "- 리뷰_알라딘베스트_최종.csv\n",
    "- 리뷰_알라딘비베스트_최종.csv\n",
    "- 리뷰_영풍베스트_최종.csv\n",
    "- 리뷰_영풍비베스트_최종.csv\n",
    "- 리뷰_예사베스트_정말최종.csv\n",
    "- 리뷰_예사비베스트_정말최종.csv\n",
    "\n",
    "# 리뷰 데이터_감성분석용\n",
    "- 리뷰_교보베스트_감성분석용.csv\n",
    "- 리뷰_교보비베스트_감성분석용.csv\n",
    "- 리뷰_알라딘베스트_감성분석용.csv\n",
    "- 리뷰_알라딘비베스트_감성분석용.csv\n",
    "- 리뷰_영풍베스트_감성분석용.csv\n",
    "- 리뷰_영풍비베스트_감성분석용.csv\n",
    "- 리뷰_예사베스트_감성분석용.csv\n",
    "- 리뷰_예사비베스트_감성분석용.csv"
   ]
  },
  {
   "cell_type": "markdown",
   "id": "4eac8cb3",
   "metadata": {},
   "source": [
    "# 모델학습"
   ]
  },
  {
   "cell_type": "code",
   "execution_count": 4,
   "id": "b06fc1d2",
   "metadata": {},
   "outputs": [
    {
     "data": {
      "text/html": [
       "<div>\n",
       "<style scoped>\n",
       "    .dataframe tbody tr th:only-of-type {\n",
       "        vertical-align: middle;\n",
       "    }\n",
       "\n",
       "    .dataframe tbody tr th {\n",
       "        vertical-align: top;\n",
       "    }\n",
       "\n",
       "    .dataframe thead th {\n",
       "        text-align: right;\n",
       "    }\n",
       "</style>\n",
       "<table border=\"1\" class=\"dataframe\">\n",
       "  <thead>\n",
       "    <tr style=\"text-align: right;\">\n",
       "      <th></th>\n",
       "      <th>review</th>\n",
       "      <th>label</th>\n",
       "    </tr>\n",
       "  </thead>\n",
       "  <tbody>\n",
       "    <tr>\n",
       "      <th>0</th>\n",
       "      <td>가격에 비해 이야기가 흥미가 떨어져요........................</td>\n",
       "      <td>0</td>\n",
       "    </tr>\n",
       "    <tr>\n",
       "      <th>1</th>\n",
       "      <td>그냥 술술 읽히는데 남은건..? 뭐지</td>\n",
       "      <td>0</td>\n",
       "    </tr>\n",
       "    <tr>\n",
       "      <th>2</th>\n",
       "      <td>책읽어보고 좋아서 할미언니강연도 갔어요\\n넘좋앗어용</td>\n",
       "      <td>1</td>\n",
       "    </tr>\n",
       "    <tr>\n",
       "      <th>3</th>\n",
       "      <td>마음을 공부하고 마음을 다스린다는 것\\n다산 정약용 선생, 조선 최고의 실학자이자 ...</td>\n",
       "      <td>1</td>\n",
       "    </tr>\n",
       "    <tr>\n",
       "      <th>4</th>\n",
       "      <td>연애라는 주제에 관심이 이전부터 많았던 터라 그동안 갖고있던 생각이랑 알고있던사실들...</td>\n",
       "      <td>0</td>\n",
       "    </tr>\n",
       "    <tr>\n",
       "      <th>...</th>\n",
       "      <td>...</td>\n",
       "      <td>...</td>\n",
       "    </tr>\n",
       "    <tr>\n",
       "      <th>29713</th>\n",
       "      <td>아이에게도 도움이 될것 같아요.</td>\n",
       "      <td>1</td>\n",
       "    </tr>\n",
       "    <tr>\n",
       "      <th>29714</th>\n",
       "      <td>도서관에서빌려읽으세요</td>\n",
       "      <td>0</td>\n",
       "    </tr>\n",
       "    <tr>\n",
       "      <th>29715</th>\n",
       "      <td>아이가 재미있어하며 잘 봐요</td>\n",
       "      <td>1</td>\n",
       "    </tr>\n",
       "    <tr>\n",
       "      <th>29716</th>\n",
       "      <td>필사해도 좋을 것 같습니다.</td>\n",
       "      <td>1</td>\n",
       "    </tr>\n",
       "    <tr>\n",
       "      <th>29717</th>\n",
       "      <td>너무 재미 없어서 안읽혀요..</td>\n",
       "      <td>0</td>\n",
       "    </tr>\n",
       "  </tbody>\n",
       "</table>\n",
       "<p>29718 rows × 2 columns</p>\n",
       "</div>"
      ],
      "text/plain": [
       "                                                  review  label\n",
       "0           가격에 비해 이야기가 흥미가 떨어져요........................      0\n",
       "1                                   그냥 술술 읽히는데 남은건..? 뭐지      0\n",
       "2                           책읽어보고 좋아서 할미언니강연도 갔어요\\n넘좋앗어용      1\n",
       "3      마음을 공부하고 마음을 다스린다는 것\\n다산 정약용 선생, 조선 최고의 실학자이자 ...      1\n",
       "4      연애라는 주제에 관심이 이전부터 많았던 터라 그동안 갖고있던 생각이랑 알고있던사실들...      0\n",
       "...                                                  ...    ...\n",
       "29713                                  아이에게도 도움이 될것 같아요.      1\n",
       "29714                                        도서관에서빌려읽으세요      0\n",
       "29715                                    아이가 재미있어하며 잘 봐요      1\n",
       "29716                                    필사해도 좋을 것 같습니다.      1\n",
       "29717                                   너무 재미 없어서 안읽혀요..      0\n",
       "\n",
       "[29718 rows x 2 columns]"
      ]
     },
     "execution_count": 4,
     "metadata": {},
     "output_type": "execute_result"
    }
   ],
   "source": [
    "import numpy as np\n",
    "import pandas as pd\n",
    "\n",
    "도서리뷰샘플 = pd.read_csv('리뷰_수작업_29718_도서.csv')\n",
    "도서리뷰샘플"
   ]
  },
  {
   "cell_type": "code",
   "execution_count": 7,
   "id": "57aaf3a2",
   "metadata": {},
   "outputs": [],
   "source": [
    "train_df = pd.read_csv('ratings_train.txt', sep='\\t') #sep => 원본텍스트 파일은 쉼표가 아닌 탭('\\t')으로 칼럼이 분리되어 있다.\n",
    "test_df = pd.read_csv('ratings_test.txt', sep='\\t') #sep => 원본텍스트 파일은 쉼표가 아닌 탭('\\t')으로 칼럼이 분리되어 있다."
   ]
  },
  {
   "cell_type": "code",
   "execution_count": 8,
   "id": "02d6003d",
   "metadata": {},
   "outputs": [],
   "source": [
    "train_df = train_df.dropna(subset=['document'])\n",
    "train_df.drop_duplicates(subset=['document'], inplace=True)\n",
    "train_df = train_df[~train_df['document'].str.contains(r'^\\d+$')]\n",
    "test_df = test_df.dropna(subset=['document'])\n",
    "test_df.drop_duplicates(subset=['document'], inplace=True) # 추가\n",
    "test_df = test_df[~test_df['document'].str.contains(r'^\\d+$')]"
   ]
  },
  {
   "cell_type": "code",
   "execution_count": 9,
   "id": "f98c1e24",
   "metadata": {},
   "outputs": [],
   "source": [
    "### 제작된 도서리뷰 데이터 추가\n",
    "\n",
    "# train 과 test df의 id열 삭제\n",
    "train_df.drop('id', axis=1, inplace=True)\n",
    "test_df.drop('id', axis=1, inplace=True)\n",
    "\n",
    "# 도서리뷰샘플 열이름 변경\n",
    "도서리뷰샘플.rename(columns={'review': 'document'}, inplace=True)\n",
    "\n",
    "# 도서리뷰샘플을 3:1비율 무작위 분할\n",
    "from sklearn.model_selection import train_test_split\n",
    "도서리뷰샘플_train, 도서리뷰샘플_test = train_test_split(도서리뷰샘플, test_size=0.2, random_state=42)\n",
    "\n",
    "# train_df 에 도서리뷰샘플_train 이어붙이기\n",
    "train_df = pd.concat([train_df, 도서리뷰샘플_train], ignore_index=True)\n",
    "\n",
    "# test_df 에 도서리뷰샘플_test 이어붙이기\n",
    "test_df = pd.concat([test_df, 도서리뷰샘플_test], ignore_index=True)"
   ]
  },
  {
   "cell_type": "code",
   "execution_count": 10,
   "id": "58a7951e",
   "metadata": {},
   "outputs": [],
   "source": [
    "# 불용어 처리 + 형태소 분석\n",
    "\n",
    "from konlpy.tag import Okt\n",
    "stopwords = set([\n",
    "    '의', '가', '이', '은', '들', '는', '좀', '잘', '걍', '과', '를', '으로', '자', '에', '와', '한',\n",
    "    '하다', '에', '는', '가', '이다', '을', '를', '이', '다', '그', '가', '에', '한', '하다', '것',\n",
    "    '등', '그리고', '나', '아니', '있다', '없다', '이다', '같다', '때문에', '등', '그', '고', '의'\n",
    "])\n",
    "\n",
    "okt = Okt()\n",
    "def okt_token(text):\n",
    "    tokens_ko = okt.morphs(text, stem=True)\n",
    "    # 불용어 처리\n",
    "    tokens_ko = [word for word in tokens_ko if word not in stopwords]\n",
    "    return tokens_ko"
   ]
  },
  {
   "cell_type": "code",
   "execution_count": 11,
   "id": "2cb85eba",
   "metadata": {},
   "outputs": [
    {
     "name": "stderr",
     "output_type": "stream",
     "text": [
      "c:\\Users\\user\\AppData\\Local\\Programs\\Python\\Python310\\lib\\site-packages\\sklearn\\feature_extraction\\text.py:517: UserWarning: The parameter 'token_pattern' will not be used since 'tokenizer' is not None'\n",
      "  warnings.warn(\n"
     ]
    }
   ],
   "source": [
    "from sklearn.feature_extraction.text import TfidfVectorizer\n",
    "from sklearn.linear_model import LogisticRegression\n",
    "from sklearn.model_selection import GridSearchCV\n",
    "\n",
    "tfidf_vect = TfidfVectorizer(tokenizer=okt_token, ngram_range=(1,2), min_df=3, max_df=0.9)\n",
    "tfidf_vect.fit(train_df['document'])\n",
    "tfidf_matrix_train = tfidf_vect.transform(train_df['document'])"
   ]
  },
  {
   "cell_type": "code",
   "execution_count": 12,
   "id": "503de3f8",
   "metadata": {},
   "outputs": [
    {
     "data": {
      "text/plain": [
       "<Compressed Sparse Row sparse matrix of dtype 'float64'\n",
       "\twith 3199965 stored elements and shape (169931, 128821)>"
      ]
     },
     "execution_count": 12,
     "metadata": {},
     "output_type": "execute_result"
    }
   ],
   "source": [
    "tfidf_matrix_train"
   ]
  },
  {
   "cell_type": "code",
   "execution_count": 13,
   "id": "e3eccc1f",
   "metadata": {},
   "outputs": [
    {
     "name": "stdout",
     "output_type": "stream",
     "text": [
      "Fitting 3 folds for each of 5 candidates, totalling 15 fits\n",
      "{'C': 3.5} 0.8412\n"
     ]
    }
   ],
   "source": [
    "# Logistic Regression 을 이용하여 감성 분석 Classification 수행.\n",
    "lg_clf = LogisticRegression(random_state=0, solver='liblinear')\n",
    "\n",
    "# Parameter C 최적화를 위해 GridSearchCV 를 이용.\n",
    "# C는 규제(Regularization): 규제는 모델의 복잡성을 줄여 과적합(overfitting)을 방지하는 방법입니다.\n",
    "params = { 'C': [1 ,3.5, 4.5, 5.5, 10 ] }\n",
    "grid_cv = GridSearchCV(lg_clf , param_grid=params , cv=3 ,scoring='accuracy', verbose=1 )\n",
    "\n",
    "#어차피 학습과 테스트 데이터가 나누어져 있기 때문에 따로 스플릿 할 필요는 없습니다.\n",
    "grid_cv.fit(tfidf_matrix_train , train_df['label'] ) #학습\n",
    "print(grid_cv.best_params_ , round(grid_cv.best_score_,4)) # 최적의 파라미터 도출"
   ]
  },
  {
   "cell_type": "code",
   "execution_count": 14,
   "id": "213169d7",
   "metadata": {},
   "outputs": [
    {
     "name": "stdout",
     "output_type": "stream",
     "text": [
      "Logistic Regression 정확도:  0.8530266167979955\n"
     ]
    }
   ],
   "source": [
    "from sklearn.metrics import accuracy_score\n",
    "\n",
    "# 학습된 TfidfVectorizer를 이용하여 test_df를 TF-IDF 값으로 Feature 변환함.\n",
    "tfidf_matrix_test = tfidf_vect.transform(test_df['document'])\n",
    "\n",
    "# classifier 는 GridSearchCV에서 최적 파라미터로 학습된 classifier를 그대로 이용\n",
    "best_esimator = grid_cv.best_estimator_\n",
    "preds = best_esimator.predict(tfidf_matrix_test)\n",
    "\n",
    "print('Logistic Regression 정확도: ',accuracy_score(test_df['label'],preds))"
   ]
  },
  {
   "cell_type": "code",
   "execution_count": 15,
   "id": "25321cf2",
   "metadata": {},
   "outputs": [
    {
     "data": {
      "text/plain": [
       "array([[0.08070856, 0.91929144]])"
      ]
     },
     "execution_count": 15,
     "metadata": {},
     "output_type": "execute_result"
    }
   ],
   "source": [
    "text_sample = '쫌 재미있네요'\n",
    "# 자연어 그 자체로는 예측할 수 없다.\n",
    "# 학습했을때와 동일하게 문장을 형태소 분석/벡터화.\n",
    "text_tfidf = tfidf_vect.transform([text_sample])\n",
    "prediction = best_esimator.predict(text_tfidf)\n",
    "prediction_prob = best_esimator.predict_proba(text_tfidf)\n",
    "prediction_prob"
   ]
  },
  {
   "cell_type": "code",
   "execution_count": null,
   "id": "f052cc7f",
   "metadata": {},
   "outputs": [],
   "source": [
    "def senti_pred(text_sample):\n",
    "    text_tfidf = tfidf_vect.transform([text_sample])\n",
    "    prediction = best_esimator.predict(text_tfidf)\n",
    "    prediction_prob = best_esimator.predict_proba(text_tfidf)\n",
    "    if prediction[0] == 1:\n",
    "        senti = '긍정'\n",
    "    else:\n",
    "        senti = '부정'\n",
    "    score = prediction_prob[0][prediction[0]]\n",
    "    print(f'{text_sample}에 대한 예측: {senti}, 확률(%): {round(score * 100, 2)}')"
   ]
  },
  {
   "cell_type": "code",
   "execution_count": 17,
   "id": "98d77147",
   "metadata": {},
   "outputs": [],
   "source": [
    "import pandas as pd\n",
    "df = pd.read_csv('리뷰_예사베스트_감성분석용.csv')"
   ]
  },
  {
   "cell_type": "code",
   "execution_count": 32,
   "id": "7e872470",
   "metadata": {},
   "outputs": [
    {
     "name": "stdout",
     "output_type": "stream",
     "text": [
      "<class 'pandas.core.frame.DataFrame'>\n",
      "RangeIndex: 268466 entries, 0 to 268465\n",
      "Data columns (total 1 columns):\n",
      " #   Column  Non-Null Count   Dtype \n",
      "---  ------  --------------   ----- \n",
      " 0   review  268405 non-null  object\n",
      "dtypes: object(1)\n",
      "memory usage: 2.0+ MB\n"
     ]
    }
   ],
   "source": [
    "df.info()"
   ]
  },
  {
   "cell_type": "code",
   "execution_count": 34,
   "id": "893175c6",
   "metadata": {},
   "outputs": [],
   "source": [
    "df = df.dropna(subset=['review'])"
   ]
  },
  {
   "cell_type": "code",
   "execution_count": 35,
   "id": "12a857e2",
   "metadata": {},
   "outputs": [
    {
     "name": "stdout",
     "output_type": "stream",
     "text": [
      "<class 'pandas.core.frame.DataFrame'>\n",
      "Index: 268405 entries, 0 to 268465\n",
      "Data columns (total 1 columns):\n",
      " #   Column  Non-Null Count   Dtype \n",
      "---  ------  --------------   ----- \n",
      " 0   review  268405 non-null  object\n",
      "dtypes: object(1)\n",
      "memory usage: 4.1+ MB\n"
     ]
    }
   ],
   "source": [
    "df.info()"
   ]
  },
  {
   "cell_type": "code",
   "execution_count": 39,
   "id": "1fb48963",
   "metadata": {},
   "outputs": [],
   "source": [
    "df1 = pd.read_csv('리뷰_예사비베스트_감성분석용.csv')"
   ]
  },
  {
   "cell_type": "code",
   "execution_count": 42,
   "id": "1cc1d1e1",
   "metadata": {},
   "outputs": [],
   "source": [
    "df1 = df1.dropna(subset=['review'])"
   ]
  },
  {
   "cell_type": "code",
   "execution_count": 37,
   "id": "1eda7f97",
   "metadata": {},
   "outputs": [],
   "source": [
    "def senti_pred(text_sample):\n",
    "    text_tfidf = tfidf_vect.transform([text_sample])\n",
    "    prediction = best_esimator.predict(text_tfidf)\n",
    "    prediction_prob = best_esimator.predict_proba(text_tfidf)\n",
    "\n",
    "    if prediction[0] == 1:\n",
    "        senti = '긍정'\n",
    "    else:\n",
    "        senti = '부정'\n",
    "\n",
    "    score = round(prediction_prob[0][prediction[0]] * 100, 2)\n",
    "    return senti, score"
   ]
  },
  {
   "cell_type": "code",
   "execution_count": 43,
   "id": "3e240439",
   "metadata": {},
   "outputs": [
    {
     "name": "stderr",
     "output_type": "stream",
     "text": [
      "C:\\Users\\user\\AppData\\Local\\Temp\\ipykernel_12460\\3962587223.py:2: SettingWithCopyWarning: \n",
      "A value is trying to be set on a copy of a slice from a DataFrame.\n",
      "Try using .loc[row_indexer,col_indexer] = value instead\n",
      "\n",
      "See the caveats in the documentation: https://pandas.pydata.org/pandas-docs/stable/user_guide/indexing.html#returning-a-view-versus-a-copy\n",
      "  df[['sentiment', 'sentiment_score']] = df['review'].apply(\n",
      "C:\\Users\\user\\AppData\\Local\\Temp\\ipykernel_12460\\3962587223.py:2: SettingWithCopyWarning: \n",
      "A value is trying to be set on a copy of a slice from a DataFrame.\n",
      "Try using .loc[row_indexer,col_indexer] = value instead\n",
      "\n",
      "See the caveats in the documentation: https://pandas.pydata.org/pandas-docs/stable/user_guide/indexing.html#returning-a-view-versus-a-copy\n",
      "  df[['sentiment', 'sentiment_score']] = df['review'].apply(\n"
     ]
    }
   ],
   "source": [
    "# 'review' 열에 함수 적용 → 결과를 2개의 컬럼으로 분리해서 저장\n",
    "df[['sentiment', 'sentiment_score']] = df['review'].apply(\n",
    "    lambda x: pd.Series(senti_pred(x))\n",
    ")"
   ]
  },
  {
   "cell_type": "code",
   "execution_count": 47,
   "id": "60868c10",
   "metadata": {},
   "outputs": [
    {
     "name": "stdout",
     "output_type": "stream",
     "text": [
      "<class 'pandas.core.frame.DataFrame'>\n",
      "Index: 268405 entries, 0 to 268465\n",
      "Data columns (total 3 columns):\n",
      " #   Column           Non-Null Count   Dtype  \n",
      "---  ------           --------------   -----  \n",
      " 0   review           268405 non-null  object \n",
      " 1   sentiment        268405 non-null  object \n",
      " 2   sentiment_score  268405 non-null  float64\n",
      "dtypes: float64(1), object(2)\n",
      "memory usage: 8.2+ MB\n"
     ]
    }
   ],
   "source": [
    "df.info()"
   ]
  },
  {
   "cell_type": "code",
   "execution_count": 48,
   "id": "c967a505",
   "metadata": {},
   "outputs": [
    {
     "name": "stdout",
     "output_type": "stream",
     "text": [
      "📘 처리 중: 리뷰_교보베스트_감성분석용.csv\n",
      "✅ 완료: 리뷰_교보베스트_감성분석용.csv (496069건)\n",
      "📘 처리 중: 리뷰_교보비베스트_감성분석용.csv\n",
      "✅ 완료: 리뷰_교보비베스트_감성분석용.csv (33118건)\n",
      "📘 처리 중: 리뷰_알라딘베스트_감성분석용.csv\n",
      "✅ 완료: 리뷰_알라딘베스트_감성분석용.csv (189485건)\n",
      "📘 처리 중: 리뷰_알라딘비베스트_감성분석용.csv\n",
      "✅ 완료: 리뷰_알라딘비베스트_감성분석용.csv (48707건)\n",
      "📘 처리 중: 리뷰_영풍베스트_감성분석용.csv\n",
      "✅ 완료: 리뷰_영풍베스트_감성분석용.csv (3034건)\n",
      "📘 처리 중: 리뷰_영풍비베스트_감성분석용.csv\n",
      "✅ 완료: 리뷰_영풍비베스트_감성분석용.csv (386건)\n",
      "📘 처리 중: 리뷰_예사베스트_감성분석용.csv\n",
      "✅ 완료: 리뷰_예사베스트_감성분석용.csv (268405건)\n",
      "📘 처리 중: 리뷰_예사비베스트_감성분석용.csv\n",
      "✅ 완료: 리뷰_예사비베스트_감성분석용.csv (73223건)\n"
     ]
    }
   ],
   "source": [
    "import pandas as pd\n",
    "\n",
    "# 파일명 목록\n",
    "file_list = [\n",
    "    '리뷰_교보베스트_감성분석용.csv',\n",
    "    '리뷰_교보비베스트_감성분석용.csv',\n",
    "    '리뷰_알라딘베스트_감성분석용.csv',\n",
    "    '리뷰_알라딘비베스트_감성분석용.csv',\n",
    "    '리뷰_영풍베스트_감성분석용.csv',\n",
    "    '리뷰_영풍비베스트_감성분석용.csv',\n",
    "    '리뷰_예사베스트_감성분석용.csv',\n",
    "    '리뷰_예사비베스트_감성분석용.csv'\n",
    "]\n",
    "\n",
    "# 처리된 결과를 저장할 딕셔너리\n",
    "processed_dfs = {}\n",
    "\n",
    "for file_name in file_list:\n",
    "    print(f'📘 처리 중: {file_name}')\n",
    "\n",
    "    # 1. 파일 불러오기\n",
    "    df = pd.read_csv(file_name)\n",
    "\n",
    "    # 2. 결측값 처리\n",
    "    df = df.dropna(subset=['review'])\n",
    "\n",
    "    # 3. 감성 분석 결과 추가\n",
    "    df[['sentiment', 'sentiment_score']] = df['review'].apply(lambda x: pd.Series(senti_pred(x)))\n",
    "\n",
    "    # 4. 결과 저장 (선택적으로 파일 저장도 가능)\n",
    "    processed_dfs[file_name] = df\n",
    "    df.to_csv(f'감성분석완료_{file_name}', index=False)  # 저장하고 싶을 경우 사용\n",
    "\n",
    "    print(f'✅ 완료: {file_name} ({len(df)}건)')\n",
    "\n"
   ]
  },
  {
   "cell_type": "code",
   "execution_count": 84,
   "id": "08ef1945",
   "metadata": {},
   "outputs": [],
   "source": [
    "import pandas as pd\n",
    "df = pd.read_csv('감성분석완료_리뷰_영풍비베스트_감성분석용.csv')\n",
    "test = pd.read_csv('[영풍] 비베스트셀러 리뷰_1차정제.csv')"
   ]
  },
  {
   "cell_type": "code",
   "execution_count": 85,
   "id": "070855ce",
   "metadata": {},
   "outputs": [
    {
     "data": {
      "text/html": [
       "<div>\n",
       "<style scoped>\n",
       "    .dataframe tbody tr th:only-of-type {\n",
       "        vertical-align: middle;\n",
       "    }\n",
       "\n",
       "    .dataframe tbody tr th {\n",
       "        vertical-align: top;\n",
       "    }\n",
       "\n",
       "    .dataframe thead th {\n",
       "        text-align: right;\n",
       "    }\n",
       "</style>\n",
       "<table border=\"1\" class=\"dataframe\">\n",
       "  <thead>\n",
       "    <tr style=\"text-align: right;\">\n",
       "      <th></th>\n",
       "      <th>review</th>\n",
       "      <th>sentiment</th>\n",
       "      <th>sentiment_score</th>\n",
       "    </tr>\n",
       "  </thead>\n",
       "  <tbody>\n",
       "    <tr>\n",
       "      <th>0</th>\n",
       "      <td>1권만 사서 읽어봤는데요 별로 2권까지 사서 읽어보고 싶지 않네요 좀 실망입니다</td>\n",
       "      <td>부정</td>\n",
       "      <td>93.59</td>\n",
       "    </tr>\n",
       "    <tr>\n",
       "      <th>1</th>\n",
       "      <td>백석의 소설과 수필의 정수를 맛볼 진수성찬이 차려졌다 백석 시인의 강한 개성을 보여...</td>\n",
       "      <td>긍정</td>\n",
       "      <td>98.03</td>\n",
       "    </tr>\n",
       "    <tr>\n",
       "      <th>2</th>\n",
       "      <td>백석 고유의 어휘를 살리면서도 곳곳에 작품을 잘 이해할 수 있도록 돕는 어휘 설명과...</td>\n",
       "      <td>긍정</td>\n",
       "      <td>85.15</td>\n",
       "    </tr>\n",
       "    <tr>\n",
       "      <th>3</th>\n",
       "      <td>백석은 시와 마찬가지로 소설과 수필에서도 허투루 쓴 작품이 없다 소설은 물론 수필에...</td>\n",
       "      <td>긍정</td>\n",
       "      <td>76.09</td>\n",
       "    </tr>\n",
       "    <tr>\n",
       "      <th>4</th>\n",
       "      <td>시나 소설을 비롯한 문학작품을 읽게 되면 나 혼자만이 오롯이 느끼는 감정도 소중하지...</td>\n",
       "      <td>긍정</td>\n",
       "      <td>96.09</td>\n",
       "    </tr>\n",
       "    <tr>\n",
       "      <th>...</th>\n",
       "      <td>...</td>\n",
       "      <td>...</td>\n",
       "      <td>...</td>\n",
       "    </tr>\n",
       "    <tr>\n",
       "      <th>381</th>\n",
       "      <td>이 전에 공간은 음식점이면 음식을 먹기만을 위한 공간으로만 정의가 되었고 그곳을 가...</td>\n",
       "      <td>긍정</td>\n",
       "      <td>97.18</td>\n",
       "    </tr>\n",
       "    <tr>\n",
       "      <th>382</th>\n",
       "      <td>자주가는 연남동에 참기름 파는 공간을 새로운 시각으로 설명해주어서 색다르고 신선했어...</td>\n",
       "      <td>긍정</td>\n",
       "      <td>94.47</td>\n",
       "    </tr>\n",
       "    <tr>\n",
       "      <th>383</th>\n",
       "      <td>공간에 대한 의미를 알 수 있게 되어서 좋아요 책에 나온 곳들 한번씩 다 방문해보고싶네용</td>\n",
       "      <td>긍정</td>\n",
       "      <td>80.11</td>\n",
       "    </tr>\n",
       "    <tr>\n",
       "      <th>384</th>\n",
       "      <td>책이 참 쉽게 구성되어 있어서 좋습니다 그리고 기존의 책들은 기계도면이나 건축도면 ...</td>\n",
       "      <td>긍정</td>\n",
       "      <td>85.30</td>\n",
       "    </tr>\n",
       "    <tr>\n",
       "      <th>385</th>\n",
       "      <td>문장마다 예쁜 그림이있어서 눈호강하며 공부할수있다 짧은문장이지만 문법적 설명이있고 ...</td>\n",
       "      <td>긍정</td>\n",
       "      <td>85.87</td>\n",
       "    </tr>\n",
       "  </tbody>\n",
       "</table>\n",
       "<p>386 rows × 3 columns</p>\n",
       "</div>"
      ],
      "text/plain": [
       "                                                review sentiment  \\\n",
       "0         1권만 사서 읽어봤는데요 별로 2권까지 사서 읽어보고 싶지 않네요 좀 실망입니다        부정   \n",
       "1    백석의 소설과 수필의 정수를 맛볼 진수성찬이 차려졌다 백석 시인의 강한 개성을 보여...        긍정   \n",
       "2    백석 고유의 어휘를 살리면서도 곳곳에 작품을 잘 이해할 수 있도록 돕는 어휘 설명과...        긍정   \n",
       "3    백석은 시와 마찬가지로 소설과 수필에서도 허투루 쓴 작품이 없다 소설은 물론 수필에...        긍정   \n",
       "4    시나 소설을 비롯한 문학작품을 읽게 되면 나 혼자만이 오롯이 느끼는 감정도 소중하지...        긍정   \n",
       "..                                                 ...       ...   \n",
       "381  이 전에 공간은 음식점이면 음식을 먹기만을 위한 공간으로만 정의가 되었고 그곳을 가...        긍정   \n",
       "382  자주가는 연남동에 참기름 파는 공간을 새로운 시각으로 설명해주어서 색다르고 신선했어...        긍정   \n",
       "383  공간에 대한 의미를 알 수 있게 되어서 좋아요 책에 나온 곳들 한번씩 다 방문해보고싶네용        긍정   \n",
       "384  책이 참 쉽게 구성되어 있어서 좋습니다 그리고 기존의 책들은 기계도면이나 건축도면 ...        긍정   \n",
       "385  문장마다 예쁜 그림이있어서 눈호강하며 공부할수있다 짧은문장이지만 문법적 설명이있고 ...        긍정   \n",
       "\n",
       "     sentiment_score  \n",
       "0              93.59  \n",
       "1              98.03  \n",
       "2              85.15  \n",
       "3              76.09  \n",
       "4              96.09  \n",
       "..               ...  \n",
       "381            97.18  \n",
       "382            94.47  \n",
       "383            80.11  \n",
       "384            85.30  \n",
       "385            85.87  \n",
       "\n",
       "[386 rows x 3 columns]"
      ]
     },
     "execution_count": 85,
     "metadata": {},
     "output_type": "execute_result"
    }
   ],
   "source": [
    "df"
   ]
  },
  {
   "cell_type": "code",
   "execution_count": 86,
   "id": "885746dd",
   "metadata": {},
   "outputs": [],
   "source": [
    "test = test.dropna(subset=['review'])"
   ]
  },
  {
   "cell_type": "code",
   "execution_count": 87,
   "id": "2e4ef626",
   "metadata": {},
   "outputs": [
    {
     "data": {
      "text/html": [
       "<div>\n",
       "<style scoped>\n",
       "    .dataframe tbody tr th:only-of-type {\n",
       "        vertical-align: middle;\n",
       "    }\n",
       "\n",
       "    .dataframe tbody tr th {\n",
       "        vertical-align: top;\n",
       "    }\n",
       "\n",
       "    .dataframe thead th {\n",
       "        text-align: right;\n",
       "    }\n",
       "</style>\n",
       "<table border=\"1\" class=\"dataframe\">\n",
       "  <thead>\n",
       "    <tr style=\"text-align: right;\">\n",
       "      <th></th>\n",
       "      <th>isbn</th>\n",
       "      <th>review</th>\n",
       "      <th>rating</th>\n",
       "    </tr>\n",
       "  </thead>\n",
       "  <tbody>\n",
       "    <tr>\n",
       "      <th>0</th>\n",
       "      <td>9788957591840</td>\n",
       "      <td>1권만 사서 읽어봤는데요 별로 2권까지 사서 읽어보고 싶지 않네요 좀 실망입니다</td>\n",
       "      <td>2</td>\n",
       "    </tr>\n",
       "    <tr>\n",
       "      <th>1</th>\n",
       "      <td>9788954657983</td>\n",
       "      <td>백석의 소설과 수필의 정수를 맛볼 진수성찬이 차려졌다 백석 시인의 강한 개성을 보여...</td>\n",
       "      <td>5</td>\n",
       "    </tr>\n",
       "    <tr>\n",
       "      <th>2</th>\n",
       "      <td>9788954657983</td>\n",
       "      <td>백석 고유의 어휘를 살리면서도 곳곳에 작품을 잘 이해할 수 있도록 돕는 어휘 설명과...</td>\n",
       "      <td>5</td>\n",
       "    </tr>\n",
       "    <tr>\n",
       "      <th>3</th>\n",
       "      <td>9788954657983</td>\n",
       "      <td>백석은 시와 마찬가지로 소설과 수필에서도 허투루 쓴 작품이 없다 소설은 물론 수필에...</td>\n",
       "      <td>5</td>\n",
       "    </tr>\n",
       "    <tr>\n",
       "      <th>4</th>\n",
       "      <td>9788954657983</td>\n",
       "      <td>시나 소설을 비롯한 문학작품을 읽게 되면 나 혼자만이 오롯이 느끼는 감정도 소중하지...</td>\n",
       "      <td>5</td>\n",
       "    </tr>\n",
       "    <tr>\n",
       "      <th>...</th>\n",
       "      <td>...</td>\n",
       "      <td>...</td>\n",
       "      <td>...</td>\n",
       "    </tr>\n",
       "    <tr>\n",
       "      <th>382</th>\n",
       "      <td>9791191157017</td>\n",
       "      <td>이 전에 공간은 음식점이면 음식을 먹기만을 위한 공간으로만 정의가 되었고 그곳을 가...</td>\n",
       "      <td>5</td>\n",
       "    </tr>\n",
       "    <tr>\n",
       "      <th>383</th>\n",
       "      <td>9791191157017</td>\n",
       "      <td>자주가는 연남동에 참기름 파는 공간을 새로운 시각으로 설명해주어서 색다르고 신선했어...</td>\n",
       "      <td>5</td>\n",
       "    </tr>\n",
       "    <tr>\n",
       "      <th>384</th>\n",
       "      <td>9791191157017</td>\n",
       "      <td>공간에 대한 의미를 알 수 있게 되어서 좋아요 책에 나온 곳들 한번씩 다 방문해보고싶네용</td>\n",
       "      <td>5</td>\n",
       "    </tr>\n",
       "    <tr>\n",
       "      <th>385</th>\n",
       "      <td>9788931556179</td>\n",
       "      <td>책이 참 쉽게 구성되어 있어서 좋습니다 그리고 기존의 책들은 기계도면이나 건축도면 ...</td>\n",
       "      <td>5</td>\n",
       "    </tr>\n",
       "    <tr>\n",
       "      <th>386</th>\n",
       "      <td>9791157683260</td>\n",
       "      <td>문장마다 예쁜 그림이있어서 눈호강하며 공부할수있다 짧은문장이지만 문법적 설명이있고 ...</td>\n",
       "      <td>5</td>\n",
       "    </tr>\n",
       "  </tbody>\n",
       "</table>\n",
       "<p>386 rows × 3 columns</p>\n",
       "</div>"
      ],
      "text/plain": [
       "              isbn                                             review  rating\n",
       "0    9788957591840       1권만 사서 읽어봤는데요 별로 2권까지 사서 읽어보고 싶지 않네요 좀 실망입니다       2\n",
       "1    9788954657983  백석의 소설과 수필의 정수를 맛볼 진수성찬이 차려졌다 백석 시인의 강한 개성을 보여...       5\n",
       "2    9788954657983  백석 고유의 어휘를 살리면서도 곳곳에 작품을 잘 이해할 수 있도록 돕는 어휘 설명과...       5\n",
       "3    9788954657983  백석은 시와 마찬가지로 소설과 수필에서도 허투루 쓴 작품이 없다 소설은 물론 수필에...       5\n",
       "4    9788954657983  시나 소설을 비롯한 문학작품을 읽게 되면 나 혼자만이 오롯이 느끼는 감정도 소중하지...       5\n",
       "..             ...                                                ...     ...\n",
       "382  9791191157017  이 전에 공간은 음식점이면 음식을 먹기만을 위한 공간으로만 정의가 되었고 그곳을 가...       5\n",
       "383  9791191157017  자주가는 연남동에 참기름 파는 공간을 새로운 시각으로 설명해주어서 색다르고 신선했어...       5\n",
       "384  9791191157017  공간에 대한 의미를 알 수 있게 되어서 좋아요 책에 나온 곳들 한번씩 다 방문해보고싶네용       5\n",
       "385  9788931556179  책이 참 쉽게 구성되어 있어서 좋습니다 그리고 기존의 책들은 기계도면이나 건축도면 ...       5\n",
       "386  9791157683260  문장마다 예쁜 그림이있어서 눈호강하며 공부할수있다 짧은문장이지만 문법적 설명이있고 ...       5\n",
       "\n",
       "[386 rows x 3 columns]"
      ]
     },
     "execution_count": 87,
     "metadata": {},
     "output_type": "execute_result"
    }
   ],
   "source": [
    "test"
   ]
  },
  {
   "cell_type": "code",
   "execution_count": 88,
   "id": "17a9c5c5",
   "metadata": {},
   "outputs": [],
   "source": [
    "df1 = pd.merge(df, test[['review', 'isbn', 'rating']], on='review', how='left')"
   ]
  },
  {
   "cell_type": "code",
   "execution_count": 89,
   "id": "6049d3fc",
   "metadata": {},
   "outputs": [],
   "source": [
    "df1 = df1[['isbn', 'review', 'rating', 'sentiment', 'sentiment_score']]"
   ]
  },
  {
   "cell_type": "code",
   "execution_count": 90,
   "id": "cdd5f34f",
   "metadata": {},
   "outputs": [
    {
     "data": {
      "text/html": [
       "<div>\n",
       "<style scoped>\n",
       "    .dataframe tbody tr th:only-of-type {\n",
       "        vertical-align: middle;\n",
       "    }\n",
       "\n",
       "    .dataframe tbody tr th {\n",
       "        vertical-align: top;\n",
       "    }\n",
       "\n",
       "    .dataframe thead th {\n",
       "        text-align: right;\n",
       "    }\n",
       "</style>\n",
       "<table border=\"1\" class=\"dataframe\">\n",
       "  <thead>\n",
       "    <tr style=\"text-align: right;\">\n",
       "      <th></th>\n",
       "      <th>isbn</th>\n",
       "      <th>review</th>\n",
       "      <th>rating</th>\n",
       "      <th>sentiment</th>\n",
       "      <th>sentiment_score</th>\n",
       "    </tr>\n",
       "  </thead>\n",
       "  <tbody>\n",
       "    <tr>\n",
       "      <th>0</th>\n",
       "      <td>9788957591840</td>\n",
       "      <td>1권만 사서 읽어봤는데요 별로 2권까지 사서 읽어보고 싶지 않네요 좀 실망입니다</td>\n",
       "      <td>2</td>\n",
       "      <td>부정</td>\n",
       "      <td>93.59</td>\n",
       "    </tr>\n",
       "    <tr>\n",
       "      <th>1</th>\n",
       "      <td>9788954657983</td>\n",
       "      <td>백석의 소설과 수필의 정수를 맛볼 진수성찬이 차려졌다 백석 시인의 강한 개성을 보여...</td>\n",
       "      <td>5</td>\n",
       "      <td>긍정</td>\n",
       "      <td>98.03</td>\n",
       "    </tr>\n",
       "    <tr>\n",
       "      <th>2</th>\n",
       "      <td>9788954657983</td>\n",
       "      <td>백석 고유의 어휘를 살리면서도 곳곳에 작품을 잘 이해할 수 있도록 돕는 어휘 설명과...</td>\n",
       "      <td>5</td>\n",
       "      <td>긍정</td>\n",
       "      <td>85.15</td>\n",
       "    </tr>\n",
       "    <tr>\n",
       "      <th>3</th>\n",
       "      <td>9788954657983</td>\n",
       "      <td>백석은 시와 마찬가지로 소설과 수필에서도 허투루 쓴 작품이 없다 소설은 물론 수필에...</td>\n",
       "      <td>5</td>\n",
       "      <td>긍정</td>\n",
       "      <td>76.09</td>\n",
       "    </tr>\n",
       "    <tr>\n",
       "      <th>4</th>\n",
       "      <td>9788954657983</td>\n",
       "      <td>시나 소설을 비롯한 문학작품을 읽게 되면 나 혼자만이 오롯이 느끼는 감정도 소중하지...</td>\n",
       "      <td>5</td>\n",
       "      <td>긍정</td>\n",
       "      <td>96.09</td>\n",
       "    </tr>\n",
       "    <tr>\n",
       "      <th>...</th>\n",
       "      <td>...</td>\n",
       "      <td>...</td>\n",
       "      <td>...</td>\n",
       "      <td>...</td>\n",
       "      <td>...</td>\n",
       "    </tr>\n",
       "    <tr>\n",
       "      <th>381</th>\n",
       "      <td>9791191157017</td>\n",
       "      <td>이 전에 공간은 음식점이면 음식을 먹기만을 위한 공간으로만 정의가 되었고 그곳을 가...</td>\n",
       "      <td>5</td>\n",
       "      <td>긍정</td>\n",
       "      <td>97.18</td>\n",
       "    </tr>\n",
       "    <tr>\n",
       "      <th>382</th>\n",
       "      <td>9791191157017</td>\n",
       "      <td>자주가는 연남동에 참기름 파는 공간을 새로운 시각으로 설명해주어서 색다르고 신선했어...</td>\n",
       "      <td>5</td>\n",
       "      <td>긍정</td>\n",
       "      <td>94.47</td>\n",
       "    </tr>\n",
       "    <tr>\n",
       "      <th>383</th>\n",
       "      <td>9791191157017</td>\n",
       "      <td>공간에 대한 의미를 알 수 있게 되어서 좋아요 책에 나온 곳들 한번씩 다 방문해보고싶네용</td>\n",
       "      <td>5</td>\n",
       "      <td>긍정</td>\n",
       "      <td>80.11</td>\n",
       "    </tr>\n",
       "    <tr>\n",
       "      <th>384</th>\n",
       "      <td>9788931556179</td>\n",
       "      <td>책이 참 쉽게 구성되어 있어서 좋습니다 그리고 기존의 책들은 기계도면이나 건축도면 ...</td>\n",
       "      <td>5</td>\n",
       "      <td>긍정</td>\n",
       "      <td>85.30</td>\n",
       "    </tr>\n",
       "    <tr>\n",
       "      <th>385</th>\n",
       "      <td>9791157683260</td>\n",
       "      <td>문장마다 예쁜 그림이있어서 눈호강하며 공부할수있다 짧은문장이지만 문법적 설명이있고 ...</td>\n",
       "      <td>5</td>\n",
       "      <td>긍정</td>\n",
       "      <td>85.87</td>\n",
       "    </tr>\n",
       "  </tbody>\n",
       "</table>\n",
       "<p>386 rows × 5 columns</p>\n",
       "</div>"
      ],
      "text/plain": [
       "              isbn                                             review  rating  \\\n",
       "0    9788957591840       1권만 사서 읽어봤는데요 별로 2권까지 사서 읽어보고 싶지 않네요 좀 실망입니다       2   \n",
       "1    9788954657983  백석의 소설과 수필의 정수를 맛볼 진수성찬이 차려졌다 백석 시인의 강한 개성을 보여...       5   \n",
       "2    9788954657983  백석 고유의 어휘를 살리면서도 곳곳에 작품을 잘 이해할 수 있도록 돕는 어휘 설명과...       5   \n",
       "3    9788954657983  백석은 시와 마찬가지로 소설과 수필에서도 허투루 쓴 작품이 없다 소설은 물론 수필에...       5   \n",
       "4    9788954657983  시나 소설을 비롯한 문학작품을 읽게 되면 나 혼자만이 오롯이 느끼는 감정도 소중하지...       5   \n",
       "..             ...                                                ...     ...   \n",
       "381  9791191157017  이 전에 공간은 음식점이면 음식을 먹기만을 위한 공간으로만 정의가 되었고 그곳을 가...       5   \n",
       "382  9791191157017  자주가는 연남동에 참기름 파는 공간을 새로운 시각으로 설명해주어서 색다르고 신선했어...       5   \n",
       "383  9791191157017  공간에 대한 의미를 알 수 있게 되어서 좋아요 책에 나온 곳들 한번씩 다 방문해보고싶네용       5   \n",
       "384  9788931556179  책이 참 쉽게 구성되어 있어서 좋습니다 그리고 기존의 책들은 기계도면이나 건축도면 ...       5   \n",
       "385  9791157683260  문장마다 예쁜 그림이있어서 눈호강하며 공부할수있다 짧은문장이지만 문법적 설명이있고 ...       5   \n",
       "\n",
       "    sentiment  sentiment_score  \n",
       "0          부정            93.59  \n",
       "1          긍정            98.03  \n",
       "2          긍정            85.15  \n",
       "3          긍정            76.09  \n",
       "4          긍정            96.09  \n",
       "..        ...              ...  \n",
       "381        긍정            97.18  \n",
       "382        긍정            94.47  \n",
       "383        긍정            80.11  \n",
       "384        긍정            85.30  \n",
       "385        긍정            85.87  \n",
       "\n",
       "[386 rows x 5 columns]"
      ]
     },
     "execution_count": 90,
     "metadata": {},
     "output_type": "execute_result"
    }
   ],
   "source": [
    "df1"
   ]
  },
  {
   "cell_type": "code",
   "execution_count": 91,
   "id": "31c300d1",
   "metadata": {},
   "outputs": [],
   "source": [
    "df1.drop_duplicates(subset=['review'], inplace=True)"
   ]
  },
  {
   "cell_type": "code",
   "execution_count": 92,
   "id": "0bf43cec",
   "metadata": {},
   "outputs": [
    {
     "data": {
      "text/html": [
       "<div>\n",
       "<style scoped>\n",
       "    .dataframe tbody tr th:only-of-type {\n",
       "        vertical-align: middle;\n",
       "    }\n",
       "\n",
       "    .dataframe tbody tr th {\n",
       "        vertical-align: top;\n",
       "    }\n",
       "\n",
       "    .dataframe thead th {\n",
       "        text-align: right;\n",
       "    }\n",
       "</style>\n",
       "<table border=\"1\" class=\"dataframe\">\n",
       "  <thead>\n",
       "    <tr style=\"text-align: right;\">\n",
       "      <th></th>\n",
       "      <th>isbn</th>\n",
       "      <th>review</th>\n",
       "      <th>rating</th>\n",
       "      <th>sentiment</th>\n",
       "      <th>sentiment_score</th>\n",
       "    </tr>\n",
       "  </thead>\n",
       "  <tbody>\n",
       "    <tr>\n",
       "      <th>0</th>\n",
       "      <td>9788957591840</td>\n",
       "      <td>1권만 사서 읽어봤는데요 별로 2권까지 사서 읽어보고 싶지 않네요 좀 실망입니다</td>\n",
       "      <td>2</td>\n",
       "      <td>부정</td>\n",
       "      <td>93.59</td>\n",
       "    </tr>\n",
       "    <tr>\n",
       "      <th>1</th>\n",
       "      <td>9788954657983</td>\n",
       "      <td>백석의 소설과 수필의 정수를 맛볼 진수성찬이 차려졌다 백석 시인의 강한 개성을 보여...</td>\n",
       "      <td>5</td>\n",
       "      <td>긍정</td>\n",
       "      <td>98.03</td>\n",
       "    </tr>\n",
       "    <tr>\n",
       "      <th>2</th>\n",
       "      <td>9788954657983</td>\n",
       "      <td>백석 고유의 어휘를 살리면서도 곳곳에 작품을 잘 이해할 수 있도록 돕는 어휘 설명과...</td>\n",
       "      <td>5</td>\n",
       "      <td>긍정</td>\n",
       "      <td>85.15</td>\n",
       "    </tr>\n",
       "    <tr>\n",
       "      <th>3</th>\n",
       "      <td>9788954657983</td>\n",
       "      <td>백석은 시와 마찬가지로 소설과 수필에서도 허투루 쓴 작품이 없다 소설은 물론 수필에...</td>\n",
       "      <td>5</td>\n",
       "      <td>긍정</td>\n",
       "      <td>76.09</td>\n",
       "    </tr>\n",
       "    <tr>\n",
       "      <th>4</th>\n",
       "      <td>9788954657983</td>\n",
       "      <td>시나 소설을 비롯한 문학작품을 읽게 되면 나 혼자만이 오롯이 느끼는 감정도 소중하지...</td>\n",
       "      <td>5</td>\n",
       "      <td>긍정</td>\n",
       "      <td>96.09</td>\n",
       "    </tr>\n",
       "    <tr>\n",
       "      <th>...</th>\n",
       "      <td>...</td>\n",
       "      <td>...</td>\n",
       "      <td>...</td>\n",
       "      <td>...</td>\n",
       "      <td>...</td>\n",
       "    </tr>\n",
       "    <tr>\n",
       "      <th>381</th>\n",
       "      <td>9791191157017</td>\n",
       "      <td>이 전에 공간은 음식점이면 음식을 먹기만을 위한 공간으로만 정의가 되었고 그곳을 가...</td>\n",
       "      <td>5</td>\n",
       "      <td>긍정</td>\n",
       "      <td>97.18</td>\n",
       "    </tr>\n",
       "    <tr>\n",
       "      <th>382</th>\n",
       "      <td>9791191157017</td>\n",
       "      <td>자주가는 연남동에 참기름 파는 공간을 새로운 시각으로 설명해주어서 색다르고 신선했어...</td>\n",
       "      <td>5</td>\n",
       "      <td>긍정</td>\n",
       "      <td>94.47</td>\n",
       "    </tr>\n",
       "    <tr>\n",
       "      <th>383</th>\n",
       "      <td>9791191157017</td>\n",
       "      <td>공간에 대한 의미를 알 수 있게 되어서 좋아요 책에 나온 곳들 한번씩 다 방문해보고싶네용</td>\n",
       "      <td>5</td>\n",
       "      <td>긍정</td>\n",
       "      <td>80.11</td>\n",
       "    </tr>\n",
       "    <tr>\n",
       "      <th>384</th>\n",
       "      <td>9788931556179</td>\n",
       "      <td>책이 참 쉽게 구성되어 있어서 좋습니다 그리고 기존의 책들은 기계도면이나 건축도면 ...</td>\n",
       "      <td>5</td>\n",
       "      <td>긍정</td>\n",
       "      <td>85.30</td>\n",
       "    </tr>\n",
       "    <tr>\n",
       "      <th>385</th>\n",
       "      <td>9791157683260</td>\n",
       "      <td>문장마다 예쁜 그림이있어서 눈호강하며 공부할수있다 짧은문장이지만 문법적 설명이있고 ...</td>\n",
       "      <td>5</td>\n",
       "      <td>긍정</td>\n",
       "      <td>85.87</td>\n",
       "    </tr>\n",
       "  </tbody>\n",
       "</table>\n",
       "<p>386 rows × 5 columns</p>\n",
       "</div>"
      ],
      "text/plain": [
       "              isbn                                             review  rating  \\\n",
       "0    9788957591840       1권만 사서 읽어봤는데요 별로 2권까지 사서 읽어보고 싶지 않네요 좀 실망입니다       2   \n",
       "1    9788954657983  백석의 소설과 수필의 정수를 맛볼 진수성찬이 차려졌다 백석 시인의 강한 개성을 보여...       5   \n",
       "2    9788954657983  백석 고유의 어휘를 살리면서도 곳곳에 작품을 잘 이해할 수 있도록 돕는 어휘 설명과...       5   \n",
       "3    9788954657983  백석은 시와 마찬가지로 소설과 수필에서도 허투루 쓴 작품이 없다 소설은 물론 수필에...       5   \n",
       "4    9788954657983  시나 소설을 비롯한 문학작품을 읽게 되면 나 혼자만이 오롯이 느끼는 감정도 소중하지...       5   \n",
       "..             ...                                                ...     ...   \n",
       "381  9791191157017  이 전에 공간은 음식점이면 음식을 먹기만을 위한 공간으로만 정의가 되었고 그곳을 가...       5   \n",
       "382  9791191157017  자주가는 연남동에 참기름 파는 공간을 새로운 시각으로 설명해주어서 색다르고 신선했어...       5   \n",
       "383  9791191157017  공간에 대한 의미를 알 수 있게 되어서 좋아요 책에 나온 곳들 한번씩 다 방문해보고싶네용       5   \n",
       "384  9788931556179  책이 참 쉽게 구성되어 있어서 좋습니다 그리고 기존의 책들은 기계도면이나 건축도면 ...       5   \n",
       "385  9791157683260  문장마다 예쁜 그림이있어서 눈호강하며 공부할수있다 짧은문장이지만 문법적 설명이있고 ...       5   \n",
       "\n",
       "    sentiment  sentiment_score  \n",
       "0          부정            93.59  \n",
       "1          긍정            98.03  \n",
       "2          긍정            85.15  \n",
       "3          긍정            76.09  \n",
       "4          긍정            96.09  \n",
       "..        ...              ...  \n",
       "381        긍정            97.18  \n",
       "382        긍정            94.47  \n",
       "383        긍정            80.11  \n",
       "384        긍정            85.30  \n",
       "385        긍정            85.87  \n",
       "\n",
       "[386 rows x 5 columns]"
      ]
     },
     "execution_count": 92,
     "metadata": {},
     "output_type": "execute_result"
    }
   ],
   "source": [
    "df1"
   ]
  },
  {
   "cell_type": "code",
   "execution_count": 93,
   "id": "c463e2ab",
   "metadata": {},
   "outputs": [],
   "source": [
    "df1.to_csv('리뷰최종_영풍비베스트.csv', index=False)"
   ]
  },
  {
   "cell_type": "code",
   "execution_count": null,
   "id": "6cfaa36a",
   "metadata": {},
   "outputs": [],
   "source": [
    "import pandas as pd\n",
    "df = pd.read_csv('리뷰최종_교보베스트.csv')"
   ]
  },
  {
   "cell_type": "code",
   "execution_count": 96,
   "id": "71e5f46e",
   "metadata": {},
   "outputs": [
    {
     "data": {
      "text/plain": [
       "isbn\n",
       "9788901098272    4.876923\n",
       "9788901116105    5.000000\n",
       "9788901165851    4.870370\n",
       "9788901216270    4.744186\n",
       "9788901222141    4.771429\n",
       "                   ...   \n",
       "9791198960009    4.333333\n",
       "9791198984814    4.857143\n",
       "9791198987600    4.914729\n",
       "9791198999108    4.384615\n",
       "9791199015807    4.937759\n",
       "Name: rating, Length: 9184, dtype: float64"
      ]
     },
     "execution_count": 96,
     "metadata": {},
     "output_type": "execute_result"
    }
   ],
   "source": [
    "df.groupby('isbn')['rating'].mean()"
   ]
  },
  {
   "cell_type": "markdown",
   "id": "d3673c9c",
   "metadata": {},
   "source": [
    "# 리뷰데이터\n",
    "- 누락, 중복 행 삭제\n",
    "- 특수기호, 이모티콘 등 삭제\n",
    "- 이상한 데이터 행 삭제\n",
    "- 감성분석 완료\n",
    "\n",
    "# 리뷰 데이터 파일\n",
    "- [교보] 베스트셀러 리뷰_1차정제.csv\n",
    "- [교보] 비베스트셀러 리뷰_1차정제.csv\n",
    "- [알라딘] 베스트셀러 리뷰_1차정제.csv\n",
    "- [알라딘] 비베스트셀러 리뷰_1차정제.csv\n",
    "- [영풍] 베스트셀러 리뷰_1차정제.csv\n",
    "- [영풍] 비베스트셀러 리뷰_1차정제.csv\n",
    "- 리뷰_예사베스트_정말최종.csv\n",
    "- 리뷰_예사비베스트_정말최종.csv\n",
    "\n",
    "# 최종 리뷰 데이터\n",
    "- 리뷰_예사베스트\n",
    "\n",
    "# 감성점수 산출\n",
    "도서평가점수 = 리뷰수*0.2 + 감성점수*0.5 + 별점*0.3\n",
    "- 감성점수는 각 플랫폼별로 ISBN별 감성점수의 평균\n",
    "- 별점 또한 각 플랫폼별로 ISBN별 별점의 평균\n",
    "- 산출된 도서평가점수는 도서메타데이터의 포함\n",
    "ex) kyobo_score\n"
   ]
  }
 ],
 "metadata": {
  "kernelspec": {
   "display_name": "Python 3",
   "language": "python",
   "name": "python3"
  },
  "language_info": {
   "codemirror_mode": {
    "name": "ipython",
    "version": 3
   },
   "file_extension": ".py",
   "mimetype": "text/x-python",
   "name": "python",
   "nbconvert_exporter": "python",
   "pygments_lexer": "ipython3",
   "version": "3.10.1"
  }
 },
 "nbformat": 4,
 "nbformat_minor": 5
}
