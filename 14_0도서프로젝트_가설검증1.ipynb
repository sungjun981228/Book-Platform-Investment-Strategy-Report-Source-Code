{
 "cells": [
  {
   "cell_type": "markdown",
   "id": "7ed5d81d",
   "metadata": {},
   "source": [
    "베스트셀러_최종버전12.csv\n",
    "비베스트셀러_최종버전11.csv"
   ]
  },
  {
   "cell_type": "markdown",
   "id": "7cd9684c",
   "metadata": {},
   "source": [
    "# 가설\n",
    "\n",
    "1. 도서평가점수와 각 플랫폼의 베스트셀러 여부는 유의미한 관계가 없다\n",
    "2. 베스트셀러 여부에 저자는 관계가 없다\n",
    "3. 특정 플랫폼에서만 베스트셀러일 경우 도서평가점수가 높다\n",
    "4. 2개 이상의 플랫폼에서 베스트셀러로 등재된 도서일 경우 평가점수가 낮다\n",
    "5. 소설, 문학 장르는 타 장르보다 도서평가점수가 낮다\n",
    "6. 알라딘은 중복으로 베스트셀러가 등재되어 있는 도서가 플랫폼 중 가장 적다\n",
    "7. 영풍에서 베스트셀러가 된 도서는 매우 인기있는 도서여서 모든 플랫폼에서 베스트셀러일 확률이 높다"
   ]
  },
  {
   "cell_type": "markdown",
   "id": "f36c671d",
   "metadata": {},
   "source": [
    "1. 도서평가점수와 각 플랫폼의 베스트셀러 여부는 유의미한 관계가 없다"
   ]
  },
  {
   "cell_type": "code",
   "execution_count": 10,
   "id": "6da3e611",
   "metadata": {},
   "outputs": [],
   "source": [
    "import pandas as pd\n",
    "df = pd.read_csv('베스트셀러_최종버전12.csv')\n",
    "df1 = pd.read_csv('비베스트셀러_최종버전11.csv')"
   ]
  },
  {
   "cell_type": "code",
   "execution_count": 15,
   "id": "44fefff4",
   "metadata": {},
   "outputs": [],
   "source": [
    "test = pd.concat([df, df1])"
   ]
  },
  {
   "cell_type": "code",
   "execution_count": 17,
   "id": "02ebcbd0",
   "metadata": {},
   "outputs": [
    {
     "name": "stdout",
     "output_type": "stream",
     "text": [
      "      플랫폼  정규성_p (베스트셀러)  정규성_p (비베스트셀러)  등분산성_p\n",
      "0   kyobo            0.0             0.0     0.0\n",
      "1  aladin            0.0             0.0     0.0\n",
      "2   yes24            0.0             0.0     0.0\n",
      "3      yp            0.0             0.0     0.0\n"
     ]
    },
    {
     "name": "stderr",
     "output_type": "stream",
     "text": [
      "c:\\Users\\user\\AppData\\Local\\Programs\\Python\\Python310\\lib\\site-packages\\scipy\\stats\\_axis_nan_policy.py:586: UserWarning: scipy.stats.shapiro: For N > 5000, computed p-value may not be accurate. Current N is 7551.\n",
      "  res = hypotest_fun_out(*samples, **kwds)\n",
      "c:\\Users\\user\\AppData\\Local\\Programs\\Python\\Python310\\lib\\site-packages\\scipy\\stats\\_axis_nan_policy.py:586: UserWarning: scipy.stats.shapiro: For N > 5000, computed p-value may not be accurate. Current N is 6681.\n",
      "  res = hypotest_fun_out(*samples, **kwds)\n",
      "c:\\Users\\user\\AppData\\Local\\Programs\\Python\\Python310\\lib\\site-packages\\scipy\\stats\\_axis_nan_policy.py:586: UserWarning: scipy.stats.shapiro: For N > 5000, computed p-value may not be accurate. Current N is 8248.\n",
      "  res = hypotest_fun_out(*samples, **kwds)\n",
      "c:\\Users\\user\\AppData\\Local\\Programs\\Python\\Python310\\lib\\site-packages\\scipy\\stats\\_axis_nan_policy.py:586: UserWarning: scipy.stats.shapiro: For N > 5000, computed p-value may not be accurate. Current N is 8680.\n",
      "  res = hypotest_fun_out(*samples, **kwds)\n"
     ]
    }
   ],
   "source": [
    "from scipy.stats import shapiro, levene\n",
    "import pandas as pd\n",
    "\n",
    "platforms = ['kyobo', 'aladin', 'yes24', 'yp']\n",
    "results = []\n",
    "\n",
    "for p in platforms:\n",
    "    best_col = f'{p}_best'\n",
    "    score_col = f'{p}_score'\n",
    "    \n",
    "    group1 = test[test[best_col] == 1][score_col].dropna()\n",
    "    group0 = test[test[best_col] == 0][score_col].dropna()\n",
    "    \n",
    "    # 정규성 (Shapiro-Wilk)\n",
    "    p_normal_1 = shapiro(group1)[1]\n",
    "    p_normal_0 = shapiro(group0)[1]\n",
    "    \n",
    "    # 등분산성 (Levene)\n",
    "    p_levene = levene(group1, group0)[1]\n",
    "    \n",
    "    results.append({\n",
    "        '플랫폼': p,\n",
    "        '정규성_p (베스트셀러)': round(p_normal_1, 4),\n",
    "        '정규성_p (비베스트셀러)': round(p_normal_0, 4),\n",
    "        '등분산성_p': round(p_levene, 4)\n",
    "    })\n",
    "\n",
    "# 결과 보기\n",
    "result_df = pd.DataFrame(results)\n",
    "print(result_df)\n"
   ]
  },
  {
   "cell_type": "markdown",
   "id": "4f4cb65d",
   "metadata": {},
   "source": [
    "4개 플랫폼 모두 정규성(p=0.000) 및 등분산성(p=0.000)을 만족하지 않으므로,\n",
    "krskal-wallis 검정을 통해 두 집단의 도서 평가점수 차이를 분석"
   ]
  },
  {
   "cell_type": "code",
   "execution_count": 18,
   "id": "31b507e5",
   "metadata": {},
   "outputs": [
    {
     "name": "stdout",
     "output_type": "stream",
     "text": [
      "      플랫폼  p-value 유의미한 차이 여부 (p<0.05)\n",
      "0   kyobo      0.0               ✅ Yes\n",
      "1  aladin      0.0               ✅ Yes\n",
      "2   yes24      0.0               ✅ Yes\n",
      "3      yp      0.0               ✅ Yes\n"
     ]
    }
   ],
   "source": [
    "from scipy.stats import kruskal\n",
    "import pandas as pd\n",
    "\n",
    "platforms = ['kyobo', 'aladin', 'yes24', 'yp']\n",
    "results = []\n",
    "\n",
    "for p in platforms:\n",
    "    best_col = f'{p}_best'\n",
    "    score_col = f'{p}_score'\n",
    "    \n",
    "    group0 = test[test[best_col] == 0][score_col].dropna()\n",
    "    group1 = test[test[best_col] == 1][score_col].dropna()\n",
    "    \n",
    "    stat, p_value = kruskal(group0, group1)\n",
    "    \n",
    "    results.append({\n",
    "        '플랫폼': p,\n",
    "        'p-value': round(p_value, 4),\n",
    "        '유의미한 차이 여부 (p<0.05)': '✅ Yes' if p_value < 0.05 else '❌ No'\n",
    "    })\n",
    "\n",
    "result_df = pd.DataFrame(results)\n",
    "print(result_df)\n"
   ]
  },
  {
   "cell_type": "markdown",
   "id": "5a4d36a1",
   "metadata": {},
   "source": [
    "네 플랫폼 모두 p값이 0.05보다 작기에 귀무가설을 기각\n",
    "즉, 도서평가점수와 각 플랫폼간의 베트스셀러 여부는 유의미한 관계가 있다"
   ]
  },
  {
   "cell_type": "markdown",
   "id": "85b75457",
   "metadata": {},
   "source": [
    "2. 베스트셀러 여부에 저자는 관계가 없다\n",
    "범주형 데이터간의 분석이기에 정규성, 등분산성을 파악하지 않고 카이제곱 검정 진행"
   ]
  },
  {
   "cell_type": "code",
   "execution_count": 20,
   "id": "d4ac062d",
   "metadata": {},
   "outputs": [
    {
     "name": "stdout",
     "output_type": "stream",
     "text": [
      "\n",
      "===== kyobo_best vs AUTHOR =====\n",
      "Chi-squared statistic: 2119.2820\n",
      "p-value: 0.0000\n",
      "Degrees of freedom: 1244\n",
      "✅ 저자와 베스트셀러 여부는 유의미한 관계가 있습니다. (귀무가설 기각)\n",
      "\n",
      "===== aladin_best vs AUTHOR =====\n",
      "Chi-squared statistic: 2055.9031\n",
      "p-value: 0.0000\n",
      "Degrees of freedom: 1244\n",
      "✅ 저자와 베스트셀러 여부는 유의미한 관계가 있습니다. (귀무가설 기각)\n",
      "\n",
      "===== yes24_best vs AUTHOR =====\n",
      "Chi-squared statistic: 1911.1122\n",
      "p-value: 0.0000\n",
      "Degrees of freedom: 1244\n",
      "✅ 저자와 베스트셀러 여부는 유의미한 관계가 있습니다. (귀무가설 기각)\n",
      "\n",
      "===== yp_best vs AUTHOR =====\n",
      "Chi-squared statistic: 2209.0982\n",
      "p-value: 0.0000\n",
      "Degrees of freedom: 1244\n",
      "✅ 저자와 베스트셀러 여부는 유의미한 관계가 있습니다. (귀무가설 기각)\n",
      "\n",
      "=== 요약 결과 ===\n",
      "           플랫폼      카이제곱통계량       p-value   자유도  유의미한 관계\n",
      "0   kyobo_best  2119.281992  1.586019e-48  1244     True\n",
      "1  aladin_best  2055.903090  6.215094e-43  1244     True\n",
      "2   yes24_best  1911.112241  3.900034e-31  1244     True\n",
      "3      yp_best  2209.098218  7.365786e-57  1244     True\n"
     ]
    }
   ],
   "source": [
    "import pandas as pd\n",
    "from scipy.stats import chi2_contingency\n",
    "\n",
    "# 분석 대상 플랫폼 컬럼 리스트\n",
    "platforms = ['kyobo_best', 'aladin_best', 'yes24_best', 'yp_best']\n",
    "\n",
    "# 결과 저장용\n",
    "results = []\n",
    "\n",
    "for platform in platforms:\n",
    "    print(f\"\\n===== {platform} vs AUTHOR =====\")\n",
    "    \n",
    "    # 교차표 생성\n",
    "    cross_tab = pd.crosstab(test['AUTHOR'], test[platform])\n",
    "    \n",
    "    # 너무 희귀한 저자 제거 (분석 안정성을 위해, 1권만 낸 저자 제거)\n",
    "    cross_tab = cross_tab[cross_tab.sum(axis=1) > 1]\n",
    "    \n",
    "    # 카이제곱 검정\n",
    "    chi2, p, dof, expected = chi2_contingency(cross_tab)\n",
    "    \n",
    "    # 결과 출력\n",
    "    print(f\"Chi-squared statistic: {chi2:.4f}\")\n",
    "    print(f\"p-value: {p:.4f}\")\n",
    "    print(f\"Degrees of freedom: {dof}\")\n",
    "    \n",
    "    if p < 0.05:\n",
    "        print(\"✅ 저자와 베스트셀러 여부는 유의미한 관계가 있습니다. (귀무가설 기각)\")\n",
    "    else:\n",
    "        print(\"❌ 저자와 베스트셀러 여부는 유의미한 관계가 없습니다. (귀무가설 채택)\")\n",
    "    \n",
    "    # 결과 저장\n",
    "    results.append({\n",
    "        '플랫폼': platform,\n",
    "        '카이제곱통계량': chi2,\n",
    "        'p-value': p,\n",
    "        '자유도': dof,\n",
    "        '유의미한 관계': p < 0.05\n",
    "    })\n",
    "\n",
    "# 결과 요약 DataFrame\n",
    "summary = pd.DataFrame(results)\n",
    "print(\"\\n=== 요약 결과 ===\")\n",
    "print(summary)\n"
   ]
  },
  {
   "cell_type": "code",
   "execution_count": 22,
   "id": "855531ea",
   "metadata": {},
   "outputs": [
    {
     "data": {
      "text/plain": [
       "<Figure size 1400x800 with 0 Axes>"
      ]
     },
     "metadata": {},
     "output_type": "display_data"
    },
    {
     "data": {
      "image/png": "[encoded data removed]",
      "text/plain": [
       "<Figure size 640x480 with 1 Axes>"
      ]
     },
     "metadata": {},
     "output_type": "display_data"
    }
   ],
   "source": [
    "import pandas as pd\n",
    "import matplotlib.pyplot as plt\n",
    "import seaborn as sns\n",
    "\n",
    "plt.rc('font', family='Malgun Gothic')\n",
    "# 1. 분석할 베스트셀러 열 목록\n",
    "platforms = ['kyobo_best', 'aladin_best', 'yes24_best', 'yp_best']\n",
    "\n",
    "# 2. 저자별로 플랫폼별 베스트셀러 여부 합산 (총 등재 횟수)\n",
    "author_best_counts = test.groupby('AUTHOR')[platforms].sum()\n",
    "\n",
    "# 3. 총합 열 추가 (전체 플랫폼에서 등재된 횟수)\n",
    "author_best_counts['total_best'] = author_best_counts.sum(axis=1)\n",
    "\n",
    "# 4. Top 20 저자 추출\n",
    "top20_authors = author_best_counts.sort_values(by='total_best', ascending=False).head(20)\n",
    "\n",
    "# 5. 시각화 (stacked bar chart)\n",
    "top20_authors_sorted = top20_authors[platforms]  # 플랫폼별 등재 횟수만 사용\n",
    "\n",
    "plt.figure(figsize=(14, 8))\n",
    "top20_authors_sorted.plot(kind='bar', stacked=True, colormap='tab20c', edgecolor='black')\n",
    "\n",
    "plt.title('플랫폼별 베스트셀러 등재 횟수 (저자 Top 20)', fontsize=16)\n",
    "plt.xlabel('AUTHOR (저자)', fontsize=12)\n",
    "plt.ylabel('베스트셀러 등재 횟수', fontsize=12)\n",
    "plt.xticks(rotation=45, ha='right')\n",
    "plt.legend(title='플랫폼')\n",
    "plt.tight_layout()\n",
    "plt.grid(axis='y', linestyle='--', alpha=0.5)\n",
    "plt.show()\n"
   ]
  },
  {
   "cell_type": "markdown",
   "id": "8a90396d",
   "metadata": {},
   "source": [
    "모든 플랫폼에서 p값이 0.05보다 작기에 귀무가설 기각\n",
    "즉, 베스트셀러 여부에 저자는 관계가 있다"
   ]
  },
  {
   "cell_type": "markdown",
   "id": "1133a64a",
   "metadata": {},
   "source": [
    "3. 특정 플랫폼에서만 베스트셀러일 경우 도서평가점수가 높다"
   ]
  },
  {
   "cell_type": "code",
   "execution_count": 23,
   "id": "d1bcf76c",
   "metadata": {},
   "outputs": [
    {
     "name": "stdout",
     "output_type": "stream",
     "text": [
      "\n",
      "======= [KYOBO 플랫폼 정규성 및 등분산성 검정] =======\n",
      " - 샘플 수: only_best = 603, non_best = 5143\n",
      " - 정규성 p-value (only_best): 0.0000\n",
      " - 정규성 p-value (non_best): 0.0000\n",
      " - 등분산성 p-value: 0.0000\n",
      "\n",
      "======= [ALADIN 플랫폼 정규성 및 등분산성 검정] =======\n",
      " - 샘플 수: only_best = 1592, non_best = 5143\n",
      " - 정규성 p-value (only_best): 0.0000\n",
      " - 정규성 p-value (non_best): 0.0000\n",
      " - 등분산성 p-value: 0.0000\n",
      "\n",
      "======= [YES24 플랫폼 정규성 및 등분산성 검정] =======\n",
      " - 샘플 수: only_best = 149, non_best = 5143\n",
      " - 정규성 p-value (only_best): 0.0000\n",
      " - 정규성 p-value (non_best): 0.0000\n",
      " - 등분산성 p-value: 0.0000\n",
      "\n",
      "======= [YP 플랫폼 정규성 및 등분산성 검정] =======\n",
      " - 샘플 수: only_best = 263, non_best = 5143\n",
      " - 정규성 p-value (only_best): 0.0000\n",
      " - 정규성 p-value (non_best): 0.0000\n",
      " - 등분산성 p-value: 0.0000\n"
     ]
    },
    {
     "name": "stderr",
     "output_type": "stream",
     "text": [
      "c:\\Users\\user\\AppData\\Local\\Programs\\Python\\Python310\\lib\\site-packages\\scipy\\stats\\_axis_nan_policy.py:586: UserWarning: scipy.stats.shapiro: For N > 5000, computed p-value may not be accurate. Current N is 5143.\n",
      "  res = hypotest_fun_out(*samples, **kwds)\n",
      "c:\\Users\\user\\AppData\\Local\\Programs\\Python\\Python310\\lib\\site-packages\\scipy\\stats\\_axis_nan_policy.py:586: UserWarning: scipy.stats.shapiro: For N > 5000, computed p-value may not be accurate. Current N is 5143.\n",
      "  res = hypotest_fun_out(*samples, **kwds)\n",
      "c:\\Users\\user\\AppData\\Local\\Programs\\Python\\Python310\\lib\\site-packages\\scipy\\stats\\_axis_nan_policy.py:586: UserWarning: scipy.stats.shapiro: For N > 5000, computed p-value may not be accurate. Current N is 5143.\n",
      "  res = hypotest_fun_out(*samples, **kwds)\n",
      "c:\\Users\\user\\AppData\\Local\\Programs\\Python\\Python310\\lib\\site-packages\\scipy\\stats\\_axis_nan_policy.py:586: UserWarning: scipy.stats.shapiro: For N > 5000, computed p-value may not be accurate. Current N is 5143.\n",
      "  res = hypotest_fun_out(*samples, **kwds)\n"
     ]
    }
   ],
   "source": [
    "from scipy.stats import shapiro, levene\n",
    "import pandas as pd\n",
    "\n",
    "platforms = ['kyobo', 'aladin', 'yes24', 'yp']\n",
    "\n",
    "for platform in platforms:\n",
    "    print(f\"\\n======= [{platform.upper()} 플랫폼 정규성 및 등분산성 검정] =======\")\n",
    "    \n",
    "    best_col = f\"{platform}_best\"\n",
    "    score_col = f\"{platform}_score\"\n",
    "    \n",
    "    only_best = test[\n",
    "        (test[best_col] == 1) &\n",
    "        (test[[p + '_best' for p in platforms if p != platform]] == 0).all(axis=1)\n",
    "    ]\n",
    "    non_best = test[\n",
    "        (test[[p + '_best' for p in platforms]] == 0).all(axis=1)\n",
    "    ]\n",
    "    \n",
    "    only_scores = only_best[score_col].dropna()\n",
    "    non_scores = non_best[score_col].dropna()\n",
    "    \n",
    "    print(f\" - 샘플 수: only_best = {len(only_scores)}, non_best = {len(non_scores)}\")\n",
    "    \n",
    "    if len(only_scores) < 5 or len(non_scores) < 5:\n",
    "        print(\"⚠️ 샘플 수 부족으로 검정 생략\")\n",
    "        continue\n",
    "    \n",
    "    # 정규성 검정\n",
    "    shapiro_only = shapiro(only_scores)\n",
    "    shapiro_non = shapiro(non_scores)\n",
    "    \n",
    "    # 등분산성 검정\n",
    "    levene_test = levene(only_scores, non_scores)\n",
    "    \n",
    "    print(f\" - 정규성 p-value (only_best): {shapiro_only.pvalue:.4f}\")\n",
    "    print(f\" - 정규성 p-value (non_best): {shapiro_non.pvalue:.4f}\")\n",
    "    print(f\" - 등분산성 p-value: {levene_test.pvalue:.4f}\")\n"
   ]
  },
  {
   "cell_type": "markdown",
   "id": "bd192933",
   "metadata": {},
   "source": [
    "네 플랫폼 베스트셀러 여부와 평가점수의 정규성, 등분산성의 p값이 0.05보다 작음\n",
    "베스트셀러와 비베스트셀러 도서간의 차이를 파악하고 더 높은지를 파악해야하기에 Mann-Whitney U 검정"
   ]
  },
  {
   "cell_type": "code",
   "execution_count": 30,
   "id": "dd90f141",
   "metadata": {},
   "outputs": [
    {
     "name": "stdout",
     "output_type": "stream",
     "text": [
      "\n",
      "======= [KYOBO 플랫폼 Mann-Whitney U 검정] =======\n",
      " - 샘플 수: only_best = 603, non_best = 5143\n",
      " - Mann-Whitney U 통계량: 2849117.5000\n",
      " - p-value: 0.0000\n",
      "✅ 특정 플랫폼만 베스트셀러 도서 평가점수가 더 높다고 할 수 있습니다. (귀무가설 기각)\n",
      "\n",
      "======= [ALADIN 플랫폼 Mann-Whitney U 검정] =======\n",
      " - 샘플 수: only_best = 1592, non_best = 5143\n",
      " - Mann-Whitney U 통계량: 6685744.5000\n",
      " - p-value: 0.0000\n",
      "✅ 특정 플랫폼만 베스트셀러 도서 평가점수가 더 높다고 할 수 있습니다. (귀무가설 기각)\n",
      "\n",
      "======= [YES24 플랫폼 Mann-Whitney U 검정] =======\n",
      " - 샘플 수: only_best = 149, non_best = 5143\n",
      " - Mann-Whitney U 통계량: 470364.0000\n",
      " - p-value: 0.0000\n",
      "✅ 특정 플랫폼만 베스트셀러 도서 평가점수가 더 높다고 할 수 있습니다. (귀무가설 기각)\n",
      "\n",
      "======= [YP 플랫폼 Mann-Whitney U 검정] =======\n",
      " - 샘플 수: only_best = 263, non_best = 5143\n",
      " - Mann-Whitney U 통계량: 817015.5000\n",
      " - p-value: 0.0000\n",
      "✅ 특정 플랫폼만 베스트셀러 도서 평가점수가 더 높다고 할 수 있습니다. (귀무가설 기각)\n"
     ]
    }
   ],
   "source": [
    "from scipy.stats import mannwhitneyu\n",
    "\n",
    "platforms = ['kyobo', 'aladin', 'yes24', 'yp']\n",
    "\n",
    "for platform in platforms:\n",
    "    print(f\"\\n======= [{platform.upper()} 플랫폼 Mann-Whitney U 검정] =======\")\n",
    "\n",
    "    best_col = f\"{platform}_best\"\n",
    "    score_col = f\"{platform}_score\"\n",
    "\n",
    "    only_best = test[\n",
    "        (test[best_col] == 1) &\n",
    "        (test[[p + '_best' for p in platforms if p != platform]] == 0).all(axis=1)\n",
    "    ]\n",
    "    non_best = test[\n",
    "        (test[[p + '_best' for p in platforms]] == 0).all(axis=1)\n",
    "    ]\n",
    "\n",
    "    only_scores = only_best[score_col].dropna()\n",
    "    non_scores = non_best[score_col].dropna()\n",
    "\n",
    "    print(f\" - 샘플 수: only_best = {len(only_scores)}, non_best = {len(non_scores)}\")\n",
    "\n",
    "    if len(only_scores) < 5 or len(non_scores) < 5:\n",
    "        print(\"⚠️ 샘플 수 부족으로 검정 생략\")\n",
    "        continue\n",
    "\n",
    "    # Mann-Whitney U 검정, alternative='greater' => only_best 점수가 더 크다는 가설 검정\n",
    "    stat, p_value = mannwhitneyu(only_scores, non_scores, alternative='greater')\n",
    "\n",
    "    print(f\" - Mann-Whitney U 통계량: {stat:.4f}\")\n",
    "    print(f\" - p-value: {p_value:.4f}\")\n",
    "\n",
    "    if p_value < 0.05:\n",
    "        print(\"✅ 특정 플랫폼만 베스트셀러 도서 평가점수가 더 높다고 할 수 있습니다. (귀무가설 기각)\")\n",
    "    else:\n",
    "        print(\"❌ 평가점수가 더 높다는 통계적 증거가 부족합니다. (귀무가설 채택)\")\n"
   ]
  },
  {
   "cell_type": "code",
   "execution_count": 31,
   "id": "c6e8f986",
   "metadata": {},
   "outputs": [
    {
     "name": "stdout",
     "output_type": "stream",
     "text": [
      "\n",
      "======= [KYOBO 플랫폼 Mann-Whitney U 검정 (alternative='less')] =======\n",
      " - 샘플 수: only_best = 603, non_best = 5143\n",
      " - Mann-Whitney U 통계량: 2849117.5000\n",
      " - p-value: 1.0000\n",
      "❌ 평가점수가 더 낮다는 통계적 증거가 부족합니다. (귀무가설 채택)\n",
      "\n",
      "======= [ALADIN 플랫폼 Mann-Whitney U 검정 (alternative='less')] =======\n",
      " - 샘플 수: only_best = 1592, non_best = 5143\n",
      " - Mann-Whitney U 통계량: 6685744.5000\n",
      " - p-value: 1.0000\n",
      "❌ 평가점수가 더 낮다는 통계적 증거가 부족합니다. (귀무가설 채택)\n",
      "\n",
      "======= [YES24 플랫폼 Mann-Whitney U 검정 (alternative='less')] =======\n",
      " - 샘플 수: only_best = 149, non_best = 5143\n",
      " - Mann-Whitney U 통계량: 470364.0000\n",
      " - p-value: 1.0000\n",
      "❌ 평가점수가 더 낮다는 통계적 증거가 부족합니다. (귀무가설 채택)\n",
      "\n",
      "======= [YP 플랫폼 Mann-Whitney U 검정 (alternative='less')] =======\n",
      " - 샘플 수: only_best = 263, non_best = 5143\n",
      " - Mann-Whitney U 통계량: 817015.5000\n",
      " - p-value: 1.0000\n",
      "❌ 평가점수가 더 낮다는 통계적 증거가 부족합니다. (귀무가설 채택)\n"
     ]
    }
   ],
   "source": [
    "from scipy.stats import mannwhitneyu\n",
    "\n",
    "platforms = ['kyobo', 'aladin', 'yes24', 'yp']\n",
    "\n",
    "for platform in platforms:\n",
    "    print(f\"\\n======= [{platform.upper()} 플랫폼 Mann-Whitney U 검정 (alternative='less')] =======\")\n",
    "\n",
    "    best_col = f\"{platform}_best\"\n",
    "    score_col = f\"{platform}_score\"\n",
    "\n",
    "    only_best = test[\n",
    "        (test[best_col] == 1) &\n",
    "        (test[[p + '_best' for p in platforms if p != platform]] == 0).all(axis=1)\n",
    "    ]\n",
    "    non_best = test[\n",
    "        (test[[p + '_best' for p in platforms]] == 0).all(axis=1)\n",
    "    ]\n",
    "\n",
    "    only_scores = only_best[score_col].dropna()\n",
    "    non_scores = non_best[score_col].dropna()\n",
    "\n",
    "    print(f\" - 샘플 수: only_best = {len(only_scores)}, non_best = {len(non_scores)}\")\n",
    "\n",
    "    if len(only_scores) < 5 or len(non_scores) < 5:\n",
    "        print(\"⚠️ 샘플 수 부족으로 검정 생략\")\n",
    "        continue\n",
    "\n",
    "    # Mann-Whitney U 검정, alternative='less' => only_best 점수가 non_best 점수보다 작다는 가설 검정\n",
    "    stat, p_value = mannwhitneyu(only_scores, non_scores, alternative='less')\n",
    "\n",
    "    print(f\" - Mann-Whitney U 통계량: {stat:.4f}\")\n",
    "    print(f\" - p-value: {p_value:.4f}\")\n",
    "\n",
    "    if p_value < 0.05:\n",
    "        print(\"✅ 특정 플랫폼만 베스트셀러 도서 평가점수가 더 낮다고 할 수 있습니다. (귀무가설 기각)\")\n",
    "    else:\n",
    "        print(\"❌ 평가점수가 더 낮다는 통계적 증거가 부족합니다. (귀무가설 채택)\")\n"
   ]
  }
 ],
 "metadata": {
  "kernelspec": {
   "display_name": "Python 3",
   "language": "python",
   "name": "python3"
  },
  "language_info": {
   "codemirror_mode": {
    "name": "ipython",
    "version": 3
   },
   "file_extension": ".py",
   "mimetype": "text/x-python",
   "name": "python",
   "nbconvert_exporter": "python",
   "pygments_lexer": "ipython3",
   "version": "3.10.1"
  }
 },
 "nbformat": 4,
 "nbformat_minor": 5
}
