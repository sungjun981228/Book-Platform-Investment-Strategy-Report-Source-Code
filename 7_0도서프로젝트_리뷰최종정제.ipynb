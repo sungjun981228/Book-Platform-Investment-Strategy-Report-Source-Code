{
 "cells": [
  {
   "cell_type": "markdown",
   "id": "bf1758a5",
   "metadata": {},
   "source": [
    "# 감성분석을 위한 리뷰 최종 정제\n",
    "# 리뷰\n",
    "- 리뷰_교보베스트_최종.csv\n",
    "- 리뷰_교보비베스트_최종.csv\n",
    "- 리뷰_알라딘베스트_최종.csv\n",
    "- 리뷰_알라딘비베스트_최종.csv\n",
    "- 리뷰_영풍베스트_최종.csv\n",
    "- 리뷰_영풍비베스트_최종.csv\n",
    "- 리뷰_예사베스트_최종.csv\n",
    "- 리뷰_예사비베스트_최종.csv\n",
    "-> 공감, 협찬 등 추가 정제 필요함"
   ]
  },
  {
   "cell_type": "code",
   "execution_count": 2,
   "id": "cb49f439",
   "metadata": {},
   "outputs": [],
   "source": [
    "import pandas as pd\n",
    "df = pd.read_csv('리뷰_교보베스트_최종.csv')\n",
    "df1 = pd.read_csv('리뷰_교보비베스트_최종.csv')\n",
    "df2 = pd.read_csv('리뷰_알라딘베스트_최종.csv')\n",
    "df3 = pd.read_csv('리뷰_알라딘비베스트_최종.csv')\n",
    "df4 = pd.read_csv('리뷰_영풍베스트_최종.csv')\n",
    "df5 = pd.read_csv('리뷰_영풍비베스트_최종.csv')\n",
    "df6 = pd.read_csv('리뷰_예사베스트_최종.csv')\n",
    "df7 = pd.read_csv('리뷰_예사비베스트_최종.csv')"
   ]
  },
  {
   "cell_type": "code",
   "execution_count": 3,
   "id": "e6c201e5",
   "metadata": {},
   "outputs": [],
   "source": [
    "df = pd.read_csv('리뷰_예사베스트_최종.csv')\n",
    "df1 = pd.read_csv('리뷰_예사비베스트_최종.csv')"
   ]
  },
  {
   "cell_type": "code",
   "execution_count": 4,
   "id": "a6139f99",
   "metadata": {},
   "outputs": [
    {
     "data": {
      "text/html": [
       "<div>\n",
       "<style scoped>\n",
       "    .dataframe tbody tr th:only-of-type {\n",
       "        vertical-align: middle;\n",
       "    }\n",
       "\n",
       "    .dataframe tbody tr th {\n",
       "        vertical-align: top;\n",
       "    }\n",
       "\n",
       "    .dataframe thead th {\n",
       "        text-align: right;\n",
       "    }\n",
       "</style>\n",
       "<table border=\"1\" class=\"dataframe\">\n",
       "  <thead>\n",
       "    <tr style=\"text-align: right;\">\n",
       "      <th></th>\n",
       "      <th>isbn</th>\n",
       "      <th>star_rating</th>\n",
       "      <th>review_content</th>\n",
       "    </tr>\n",
       "  </thead>\n",
       "  <tbody>\n",
       "    <tr>\n",
       "      <th>0</th>\n",
       "      <td>9788932022888</td>\n",
       "      <td>5.0</td>\n",
       "      <td>얇지만 생각할것이 많은 책입니다. 감정과잉이 일어나지않게 올해는 유연하게 살아보려해요.</td>\n",
       "    </tr>\n",
       "    <tr>\n",
       "      <th>1</th>\n",
       "      <td>9788932022888</td>\n",
       "      <td>5.0</td>\n",
       "      <td>우리는 모두 피로한가.</td>\n",
       "    </tr>\n",
       "    <tr>\n",
       "      <th>2</th>\n",
       "      <td>9788932022888</td>\n",
       "      <td>5.0</td>\n",
       "      <td>일독을 권합니다</td>\n",
       "    </tr>\n",
       "    <tr>\n",
       "      <th>3</th>\n",
       "      <td>9788932022888</td>\n",
       "      <td>5.0</td>\n",
       "      <td>철학적 사고의 동기부여가 된 책</td>\n",
       "    </tr>\n",
       "    <tr>\n",
       "      <th>4</th>\n",
       "      <td>9788932022888</td>\n",
       "      <td>5.0</td>\n",
       "      <td>이 시대 최고의 책으로 지정합시다!</td>\n",
       "    </tr>\n",
       "    <tr>\n",
       "      <th>...</th>\n",
       "      <td>...</td>\n",
       "      <td>...</td>\n",
       "      <td>...</td>\n",
       "    </tr>\n",
       "    <tr>\n",
       "      <th>268468</th>\n",
       "      <td>9791191183214</td>\n",
       "      <td>10.0</td>\n",
       "      <td>혜다 출판사에서 출간된 곽해선 작가님의 '경제기사 궁금증 300문 300답' 리뷰입...</td>\n",
       "    </tr>\n",
       "    <tr>\n",
       "      <th>268469</th>\n",
       "      <td>9791191183214</td>\n",
       "      <td>10.0</td>\n",
       "      <td>경제기사 궁금증 300문 300답 리뷰합니다. 살면서 경제에 관심을 가져 본 적이 ...</td>\n",
       "    </tr>\n",
       "    <tr>\n",
       "      <th>268470</th>\n",
       "      <td>9791191183214</td>\n",
       "      <td>10.0</td>\n",
       "      <td>비전공자와 초보자에게 경제라는 분야는 늘 어렵고 막연하게 느껴집니다. 하지만 그러한...</td>\n",
       "    </tr>\n",
       "    <tr>\n",
       "      <th>268471</th>\n",
       "      <td>9791191183214</td>\n",
       "      <td>10.0</td>\n",
       "      <td>저자는 경제를 알면 세상을 꿰뚫어 보는 안목이 생긴다고 주장하고 있다.따라서 저자는...</td>\n",
       "    </tr>\n",
       "    <tr>\n",
       "      <th>268472</th>\n",
       "      <td>9791191183214</td>\n",
       "      <td>8.0</td>\n",
       "      <td>순수 이과인이라 경제 상식이 부족하여 구매했는데 바쁘다는 핑계로 아직 다 못읽었네요...</td>\n",
       "    </tr>\n",
       "  </tbody>\n",
       "</table>\n",
       "<p>268473 rows × 3 columns</p>\n",
       "</div>"
      ],
      "text/plain": [
       "                 isbn  star_rating  \\\n",
       "0       9788932022888          5.0   \n",
       "1       9788932022888          5.0   \n",
       "2       9788932022888          5.0   \n",
       "3       9788932022888          5.0   \n",
       "4       9788932022888          5.0   \n",
       "...               ...          ...   \n",
       "268468  9791191183214         10.0   \n",
       "268469  9791191183214         10.0   \n",
       "268470  9791191183214         10.0   \n",
       "268471  9791191183214         10.0   \n",
       "268472  9791191183214          8.0   \n",
       "\n",
       "                                           review_content  \n",
       "0        얇지만 생각할것이 많은 책입니다. 감정과잉이 일어나지않게 올해는 유연하게 살아보려해요.  \n",
       "1                                            우리는 모두 피로한가.  \n",
       "2                                                일독을 권합니다  \n",
       "3                                       철학적 사고의 동기부여가 된 책  \n",
       "4                                     이 시대 최고의 책으로 지정합시다!  \n",
       "...                                                   ...  \n",
       "268468  혜다 출판사에서 출간된 곽해선 작가님의 '경제기사 궁금증 300문 300답' 리뷰입...  \n",
       "268469  경제기사 궁금증 300문 300답 리뷰합니다. 살면서 경제에 관심을 가져 본 적이 ...  \n",
       "268470  비전공자와 초보자에게 경제라는 분야는 늘 어렵고 막연하게 느껴집니다. 하지만 그러한...  \n",
       "268471  저자는 경제를 알면 세상을 꿰뚫어 보는 안목이 생긴다고 주장하고 있다.따라서 저자는...  \n",
       "268472  순수 이과인이라 경제 상식이 부족하여 구매했는데 바쁘다는 핑계로 아직 다 못읽었네요...  \n",
       "\n",
       "[268473 rows x 3 columns]"
      ]
     },
     "execution_count": 4,
     "metadata": {},
     "output_type": "execute_result"
    }
   ],
   "source": [
    "df"
   ]
  },
  {
   "cell_type": "code",
   "execution_count": null,
   "id": "ac2365ce",
   "metadata": {},
   "outputs": [
    {
     "data": {
      "text/html": [
       "<div>\n",
       "<style scoped>\n",
       "    .dataframe tbody tr th:only-of-type {\n",
       "        vertical-align: middle;\n",
       "    }\n",
       "\n",
       "    .dataframe tbody tr th {\n",
       "        vertical-align: top;\n",
       "    }\n",
       "\n",
       "    .dataframe thead th {\n",
       "        text-align: right;\n",
       "    }\n",
       "</style>\n",
       "<table border=\"1\" class=\"dataframe\">\n",
       "  <thead>\n",
       "    <tr style=\"text-align: right;\">\n",
       "      <th></th>\n",
       "      <th>isbn</th>\n",
       "      <th>star_rating</th>\n",
       "      <th>review_content</th>\n",
       "    </tr>\n",
       "  </thead>\n",
       "  <tbody>\n",
       "    <tr>\n",
       "      <th>0</th>\n",
       "      <td>9788932022888</td>\n",
       "      <td>5.0</td>\n",
       "      <td>얇지만 생각할것이 많은 책입니다. 감정과잉이 일어나지않게 올해는 유연하게 살아보려해요.</td>\n",
       "    </tr>\n",
       "    <tr>\n",
       "      <th>1</th>\n",
       "      <td>9788932022888</td>\n",
       "      <td>5.0</td>\n",
       "      <td>우리는 모두 피로한가.</td>\n",
       "    </tr>\n",
       "    <tr>\n",
       "      <th>2</th>\n",
       "      <td>9788932022888</td>\n",
       "      <td>5.0</td>\n",
       "      <td>일독을 권합니다</td>\n",
       "    </tr>\n",
       "    <tr>\n",
       "      <th>3</th>\n",
       "      <td>9788932022888</td>\n",
       "      <td>5.0</td>\n",
       "      <td>철학적 사고의 동기부여가 된 책</td>\n",
       "    </tr>\n",
       "    <tr>\n",
       "      <th>4</th>\n",
       "      <td>9788932022888</td>\n",
       "      <td>5.0</td>\n",
       "      <td>이 시대 최고의 책으로 지정합시다!</td>\n",
       "    </tr>\n",
       "    <tr>\n",
       "      <th>...</th>\n",
       "      <td>...</td>\n",
       "      <td>...</td>\n",
       "      <td>...</td>\n",
       "    </tr>\n",
       "    <tr>\n",
       "      <th>268468</th>\n",
       "      <td>9791191183214</td>\n",
       "      <td>10.0</td>\n",
       "      <td>혜다 출판사에서 출간된 곽해선 작가님의 '경제기사 궁금증 300문 300답' 리뷰입...</td>\n",
       "    </tr>\n",
       "    <tr>\n",
       "      <th>268469</th>\n",
       "      <td>9791191183214</td>\n",
       "      <td>10.0</td>\n",
       "      <td>경제기사 궁금증 300문 300답 리뷰합니다. 살면서 경제에 관심을 가져 본 적이 ...</td>\n",
       "    </tr>\n",
       "    <tr>\n",
       "      <th>268470</th>\n",
       "      <td>9791191183214</td>\n",
       "      <td>10.0</td>\n",
       "      <td>비전공자와 초보자에게 경제라는 분야는 늘 어렵고 막연하게 느껴집니다. 하지만 그러한...</td>\n",
       "    </tr>\n",
       "    <tr>\n",
       "      <th>268471</th>\n",
       "      <td>9791191183214</td>\n",
       "      <td>10.0</td>\n",
       "      <td>저자는 경제를 알면 세상을 꿰뚫어 보는 안목이 생긴다고 주장하고 있다.따라서 저자는...</td>\n",
       "    </tr>\n",
       "    <tr>\n",
       "      <th>268472</th>\n",
       "      <td>9791191183214</td>\n",
       "      <td>8.0</td>\n",
       "      <td>순수 이과인이라 경제 상식이 부족하여 구매했는데 바쁘다는 핑계로 아직 다 못읽었네요...</td>\n",
       "    </tr>\n",
       "  </tbody>\n",
       "</table>\n",
       "<p>268473 rows × 3 columns</p>\n",
       "</div>"
      ],
      "text/plain": [
       "                 isbn  star_rating  \\\n",
       "0       9788932022888          5.0   \n",
       "1       9788932022888          5.0   \n",
       "2       9788932022888          5.0   \n",
       "3       9788932022888          5.0   \n",
       "4       9788932022888          5.0   \n",
       "...               ...          ...   \n",
       "268468  9791191183214         10.0   \n",
       "268469  9791191183214         10.0   \n",
       "268470  9791191183214         10.0   \n",
       "268471  9791191183214         10.0   \n",
       "268472  9791191183214          8.0   \n",
       "\n",
       "                                           review_content  \n",
       "0        얇지만 생각할것이 많은 책입니다. 감정과잉이 일어나지않게 올해는 유연하게 살아보려해요.  \n",
       "1                                            우리는 모두 피로한가.  \n",
       "2                                                일독을 권합니다  \n",
       "3                                       철학적 사고의 동기부여가 된 책  \n",
       "4                                     이 시대 최고의 책으로 지정합시다!  \n",
       "...                                                   ...  \n",
       "268468  혜다 출판사에서 출간된 곽해선 작가님의 '경제기사 궁금증 300문 300답' 리뷰입...  \n",
       "268469  경제기사 궁금증 300문 300답 리뷰합니다. 살면서 경제에 관심을 가져 본 적이 ...  \n",
       "268470  비전공자와 초보자에게 경제라는 분야는 늘 어렵고 막연하게 느껴집니다. 하지만 그러한...  \n",
       "268471  저자는 경제를 알면 세상을 꿰뚫어 보는 안목이 생긴다고 주장하고 있다.따라서 저자는...  \n",
       "268472  순수 이과인이라 경제 상식이 부족하여 구매했는데 바쁘다는 핑계로 아직 다 못읽었네요...  \n",
       "\n",
       "[268473 rows x 3 columns]"
      ]
     },
     "execution_count": 6,
     "metadata": {},
     "output_type": "execute_result"
    }
   ],
   "source": [
    "# 이상한 리뷰 삭제\n",
    "pattern = r\"종이책.*\\|\\s*\\d{4}\\.\\d{2}\\.\\d{2}\\s*\\|\\s*신고/차단\"\n",
    "df = df[~df['review_content'].str.contains(pattern, na=False)]\n",
    "df"
   ]
  },
  {
   "cell_type": "code",
   "execution_count": null,
   "id": "adbfdce0",
   "metadata": {},
   "outputs": [],
   "source": [
    "# 중복 및 누락값 확인\n",
    "df = df.drop_duplicates()"
   ]
  },
  {
   "cell_type": "code",
   "execution_count": 11,
   "id": "80b088db",
   "metadata": {},
   "outputs": [
    {
     "data": {
      "text/plain": [
       "np.int64(0)"
      ]
     },
     "execution_count": 11,
     "metadata": {},
     "output_type": "execute_result"
    }
   ],
   "source": [
    "df['review_content'].isna().sum()"
   ]
  },
  {
   "cell_type": "code",
   "execution_count": 13,
   "id": "968f73a5",
   "metadata": {},
   "outputs": [],
   "source": [
    "# 이모지, 특수문자 등 제거\n",
    "import re\n",
    "\n",
    "def cleansing(text):\n",
    "    if pd.isnull(text):\n",
    "        return text\n",
    "\n",
    "    # 1. 줄바꿈 문자 제거\n",
    "    text = text.replace('\\n', ' ').replace('\\r', ' ')\n",
    "\n",
    "    # 2. 이모지 제거 (유니코드 기반)\n",
    "    text = re.sub(r'[\\U00010000-\\U0010ffff]', '', text)\n",
    "\n",
    "    # 3. 특수문자 제거 (한글, 영문, 숫자, 공백만 남김)\n",
    "    text = re.sub(r'[^가-힣a-zA-Z0-9\\s]', '', text)\n",
    "\n",
    "    # 4. 공백 여러 개 → 하나로 압축\n",
    "    text = re.sub(r'\\s+', ' ', text).strip()\n",
    "\n",
    "    return text\n",
    "\n",
    "df['review_content'] = df['review_content'].apply(cleansing)"
   ]
  },
  {
   "cell_type": "code",
   "execution_count": 15,
   "id": "3726ef5d",
   "metadata": {},
   "outputs": [
    {
     "data": {
      "text/plain": [
       "0            얇지만 생각할것이 많은 책입니다 감정과잉이 일어나지않게 올해는 유연하게 살아보려해요\n",
       "1                                               우리는 모두 피로한가\n",
       "2                                                  일독을 권합니다\n",
       "3                                         철학적 사고의 동기부여가 된 책\n",
       "4                                        이 시대 최고의 책으로 지정합시다\n",
       "                                ...                        \n",
       "268468    혜다 출판사에서 출간된 곽해선 작가님의 경제기사 궁금증 300문 300답 리뷰입니다...\n",
       "268469    경제기사 궁금증 300문 300답 리뷰합니다 살면서 경제에 관심을 가져 본 적이 없...\n",
       "268470    비전공자와 초보자에게 경제라는 분야는 늘 어렵고 막연하게 느껴집니다 하지만 그러한 ...\n",
       "268471    저자는 경제를 알면 세상을 꿰뚫어 보는 안목이 생긴다고 주장하고 있다따라서 저자는 ...\n",
       "268472    순수 이과인이라 경제 상식이 부족하여 구매했는데 바쁘다는 핑계로 아직 다 못읽었네요...\n",
       "Name: review_content, Length: 268473, dtype: object"
      ]
     },
     "execution_count": 15,
     "metadata": {},
     "output_type": "execute_result"
    }
   ],
   "source": [
    "df['review_content']"
   ]
  },
  {
   "cell_type": "code",
   "execution_count": 17,
   "id": "307790e1",
   "metadata": {},
   "outputs": [],
   "source": [
    "pattern = r\"종이책.*\\|\\s*\\d{4}\\.\\d{2}\\.\\d{2}\\s*\\|\\s*신고/차단\"\n",
    "df1 = df1[~df1['review_content'].str.contains(pattern, na=False)]\n",
    "df1 = df1.drop_duplicates()\n",
    "df1 = df1[~df1['review_content'].isna()]\n",
    "df1['review_content'] = df1['review_content'].apply(cleansing)"
   ]
  },
  {
   "cell_type": "code",
   "execution_count": 23,
   "id": "6745d488",
   "metadata": {},
   "outputs": [],
   "source": [
    "df1 = df1.drop_duplicates(subset=['review_content'])"
   ]
  },
  {
   "cell_type": "code",
   "execution_count": 27,
   "id": "3b114140",
   "metadata": {},
   "outputs": [
    {
     "data": {
      "text/html": [
       "<div>\n",
       "<style scoped>\n",
       "    .dataframe tbody tr th:only-of-type {\n",
       "        vertical-align: middle;\n",
       "    }\n",
       "\n",
       "    .dataframe tbody tr th {\n",
       "        vertical-align: top;\n",
       "    }\n",
       "\n",
       "    .dataframe thead th {\n",
       "        text-align: right;\n",
       "    }\n",
       "</style>\n",
       "<table border=\"1\" class=\"dataframe\">\n",
       "  <thead>\n",
       "    <tr style=\"text-align: right;\">\n",
       "      <th></th>\n",
       "      <th>isbn</th>\n",
       "      <th>star_rating</th>\n",
       "      <th>review_content</th>\n",
       "    </tr>\n",
       "  </thead>\n",
       "  <tbody>\n",
       "  </tbody>\n",
       "</table>\n",
       "</div>"
      ],
      "text/plain": [
       "Empty DataFrame\n",
       "Columns: [isbn, star_rating, review_content]\n",
       "Index: []"
      ]
     },
     "execution_count": 27,
     "metadata": {},
     "output_type": "execute_result"
    }
   ],
   "source": [
    "df[df['review_content'].str.contains('\\)')]"
   ]
  },
  {
   "cell_type": "code",
   "execution_count": null,
   "id": "24a30a4a",
   "metadata": {},
   "outputs": [
    {
     "data": {
      "text/html": [
       "<div>\n",
       "<style scoped>\n",
       "    .dataframe tbody tr th:only-of-type {\n",
       "        vertical-align: middle;\n",
       "    }\n",
       "\n",
       "    .dataframe tbody tr th {\n",
       "        vertical-align: top;\n",
       "    }\n",
       "\n",
       "    .dataframe thead th {\n",
       "        text-align: right;\n",
       "    }\n",
       "</style>\n",
       "<table border=\"1\" class=\"dataframe\">\n",
       "  <thead>\n",
       "    <tr style=\"text-align: right;\">\n",
       "      <th></th>\n",
       "      <th>isbn</th>\n",
       "      <th>star_rating</th>\n",
       "      <th>review_content</th>\n",
       "    </tr>\n",
       "  </thead>\n",
       "  <tbody>\n",
       "    <tr>\n",
       "      <th>297</th>\n",
       "      <td>9788937408243</td>\n",
       "      <td>4.0</td>\n",
       "      <td>1226456</td>\n",
       "    </tr>\n",
       "    <tr>\n",
       "      <th>2410</th>\n",
       "      <td>9788963194165</td>\n",
       "      <td>5.0</td>\n",
       "      <td>20000</td>\n",
       "    </tr>\n",
       "  </tbody>\n",
       "</table>\n",
       "</div>"
      ],
      "text/plain": [
       "               isbn  star_rating review_content\n",
       "297   9788937408243          4.0        1226456\n",
       "2410  9788963194165          5.0          20000"
      ]
     },
     "execution_count": 29,
     "metadata": {},
     "output_type": "execute_result"
    }
   ],
   "source": [
    "# 숫자로만 된 리뷰도 존재\n",
    "df1[df1['review_content'].str.contains(r'^\\d+$')]"
   ]
  },
  {
   "cell_type": "code",
   "execution_count": 30,
   "id": "d7a68784",
   "metadata": {},
   "outputs": [],
   "source": [
    "df = df[~df['review_content'].str.contains(r'^\\d+$')]\n",
    "df1 = df1[~df1['review_content'].str.contains(r'^\\d+$')]"
   ]
  },
  {
   "cell_type": "code",
   "execution_count": 31,
   "id": "48e7a447",
   "metadata": {},
   "outputs": [],
   "source": [
    "df.to_csv('리뷰_예사베스트_최최종.csv', index=False)\n",
    "df1.to_csv('리뷰_예사비베스트_최최종.csv', index=False)"
   ]
  },
  {
   "cell_type": "code",
   "execution_count": 3,
   "id": "3129c0e9",
   "metadata": {},
   "outputs": [
    {
     "data": {
      "text/plain": [
       "review_content\n",
       "좋아요                                                                                                                                                                                                      67\n",
       "잘 읽었습니다                                                                                                                                                                                                  38\n",
       "재미있어요                                                                                                                                                                                                    38\n",
       "추천합니다                                                                                                                                                                                                    33\n",
       "재밌어요                                                                                                                                                                                                     29\n",
       "                                                                                                                                                                                                         ..\n",
       "경제공부를 시작해야겠다 마음 먹고 서점에 갔다 경제 코너에 다양한 책들이 있었는데 그 중 집어들고 몇 페이지 읽은 책들 중에 가장 잘 읽혔다 줄글임에도 만화도서들만큼이나 잘 읽혔는데 알고보니 경제부 기자님들이 처음 일을 시작할 때 읽는 필독서 같은 책이라고 한다 사실 각잡고 어려운 내용을 읽으려니 오히려 집중도 잘 안되는 것 같아 멀티태스킹 더보기       1\n",
       "경제기사 궁금증 300문 300답은 경제 기사를 읽는 것이 어려운 분들한테 정말 좋은 책인거 같아요 경제를 하나도 몰라서 아예 무시하고 피했었는데 추천받고 구매해봤어요 경제 용어와 개념 진짜 어려운데 그나마 좀 쉽게 풀어 설명해줘서 경제에 익숙하지 않은 사람도 부담 없이 읽을 수 있을 것 같아요 아직 다 읽진 못했지만 도움되는거같아요 경제에 관 더보기     1\n",
       "이 책을 왜 이제야 알게 된건지요딱딱하고 어렵게만 느껴지던 경제분야를 알기쉽게 설명해줘서 고마운 책입니다 이제 일회독 중이지만 두고 두고 읽고 노트정리 하면서 읽어야 할 것 같아요많이 두껍긴 하지만 술술 읽혀서 뿌듯함이 느껴집니다아쉬운 점은 책이 두꺼워서 그런지 절반으로 갈라져버렸어요개인적인 바람이 있다면 해마다 개정됐으면 좋겠습니다 더보기           1\n",
       "경제기사 공부하기 위해 구입했습니다 서점에 많은 책이 있었지만 곽해선 저자님의 책이 몇십년간 계속 리뉴얼되고 많은 분들에게 사랑을 받은 만큼 스테디셀러인 이유가 있다고 판단하여 구입했습니다 책을 받자마자 참 두껍다는 생각이 들더군요 하나도 모르지만 하나씩 공부해서 실물경제에 대해 알아가보도록 하겠습니다 더보기                             1\n",
       "얇지만 생각할것이 많은 책입니다 감정과잉이 일어나지않게 올해는 유연하게 살아보려해요                                                                                                                                                            1\n",
       "Name: count, Length: 259829, dtype: int64"
      ]
     },
     "execution_count": 3,
     "metadata": {},
     "output_type": "execute_result"
    }
   ],
   "source": [
    "import pandas as pd\n",
    "df = pd.read_csv('리뷰_예사베스트_최최종.csv')\n",
    "df['review_content'].value_counts()"
   ]
  },
  {
   "cell_type": "code",
   "execution_count": 8,
   "id": "f71a1449",
   "metadata": {},
   "outputs": [
    {
     "data": {
      "text/plain": [
       "Index([28596, 99518], dtype='int64')"
      ]
     },
     "execution_count": 8,
     "metadata": {},
     "output_type": "execute_result"
    }
   ],
   "source": [
    "df[df['review_content'] == '없음'].index"
   ]
  },
  {
   "cell_type": "code",
   "execution_count": 10,
   "id": "5d641e7d",
   "metadata": {},
   "outputs": [],
   "source": [
    "df.drop([28596, 99518], inplace=True)"
   ]
  },
  {
   "cell_type": "code",
   "execution_count": 11,
   "id": "d1701f8c",
   "metadata": {},
   "outputs": [],
   "source": [
    "df1 = pd.read_csv(\"리뷰_예사비베스트_최최종.csv\")"
   ]
  },
  {
   "cell_type": "code",
   "execution_count": 14,
   "id": "b1e9fd0c",
   "metadata": {},
   "outputs": [
    {
     "data": {
      "text/plain": [
       "Index([15212], dtype='int64')"
      ]
     },
     "execution_count": 14,
     "metadata": {},
     "output_type": "execute_result"
    }
   ],
   "source": [
    "df1[df1['review_content'] == '없음'].index"
   ]
  },
  {
   "cell_type": "code",
   "execution_count": 15,
   "id": "0943e246",
   "metadata": {},
   "outputs": [],
   "source": [
    "df1.drop([15212], inplace=True)"
   ]
  },
  {
   "cell_type": "code",
   "execution_count": 16,
   "id": "6ff9e4f2",
   "metadata": {},
   "outputs": [],
   "source": [
    "df.to_csv('리뷰_예사베스트_찐최종.csv', index=False)\n",
    "df1.to_csv('리뷰_예사비베스트_찐최종.csv', index=False)"
   ]
  },
  {
   "cell_type": "code",
   "execution_count": 4,
   "id": "d1997b92",
   "metadata": {},
   "outputs": [],
   "source": [
    "import pandas as pd\n",
    "df = pd.read_csv('리뷰_예사베스트_찐최종.csv')\n",
    "df1 = pd.read_csv('리뷰_예사비베스트_찐최종.csv')"
   ]
  },
  {
   "cell_type": "code",
   "execution_count": 3,
   "id": "69d6bef5",
   "metadata": {},
   "outputs": [
    {
     "data": {
      "text/plain": [
       "star_rating\n",
       "10.0    129367\n",
       "5.0      82939\n",
       "8.0      20552\n",
       "4.0      11898\n",
       "9.0       9850\n",
       "6.0       4201\n",
       "3.0       3406\n",
       "7.0       2656\n",
       "2.0       2001\n",
       "1.0       1581\n",
       "0.0         15\n",
       "Name: count, dtype: int64"
      ]
     },
     "execution_count": 3,
     "metadata": {},
     "output_type": "execute_result"
    }
   ],
   "source": [
    "df['star_rating'].value_counts()"
   ]
  },
  {
   "cell_type": "code",
   "execution_count": 5,
   "id": "0411cc64",
   "metadata": {},
   "outputs": [],
   "source": [
    "def scale_rating(score):\n",
    "    if score <= 1:\n",
    "        return 1\n",
    "    elif score <= 3:\n",
    "        return 2\n",
    "    elif score <= 5:\n",
    "        return 3\n",
    "    elif score <= 7:\n",
    "        return 4\n",
    "    else:\n",
    "        return 5\n",
    "\n",
    "# 적용 (예: df['star_rating'] 컬럼에 적용)\n",
    "df['rating'] = df['star_rating'].apply(scale_rating)\n",
    "df1['rating'] = df1['star_rating'].apply(scale_rating)"
   ]
  },
  {
   "cell_type": "code",
   "execution_count": 7,
   "id": "5c527b35",
   "metadata": {},
   "outputs": [],
   "source": [
    "df.drop(['star_rating'], axis=1, inplace=True)\n",
    "df1.drop(['star_rating'], axis=1, inplace=True)"
   ]
  },
  {
   "cell_type": "code",
   "execution_count": 10,
   "id": "7185666e",
   "metadata": {},
   "outputs": [],
   "source": [
    "df.to_csv('리뷰_예사베스트_찐찐최종.csv', index=False)\n",
    "df1.to_csv('리뷰_예사비베스트_찐찐최종.csv', index=False)"
   ]
  },
  {
   "cell_type": "code",
   "execution_count": 11,
   "id": "b065857d",
   "metadata": {},
   "outputs": [],
   "source": [
    "import pandas as pd\n",
    "df = pd.read_csv('리뷰_예사베스트_찐찐최종.csv')\n",
    "df1 = pd.read_csv('리뷰_예사비베스트_찐찐최종.csv')"
   ]
  },
  {
   "cell_type": "code",
   "execution_count": 13,
   "id": "cf8c85a8",
   "metadata": {},
   "outputs": [],
   "source": [
    "df.rename(columns={'review_content': 'review'}, inplace=True)\n",
    "df1.rename(columns={'review_content': 'review'}, inplace=True)\n"
   ]
  },
  {
   "cell_type": "code",
   "execution_count": 15,
   "id": "36222fd9",
   "metadata": {},
   "outputs": [],
   "source": [
    "df.to_csv('리뷰_예사베스트_정말최종.csv', index=False)\n",
    "df1.to_csv('리뷰_예사비베스트_정말최종.csv', index=False)"
   ]
  },
  {
   "cell_type": "code",
   "execution_count": 17,
   "id": "ec1001e5",
   "metadata": {},
   "outputs": [],
   "source": [
    "df['review'].to_csv('리뷰_예사베스트_감성분석용.csv', index=False)"
   ]
  },
  {
   "cell_type": "code",
   "execution_count": 19,
   "id": "d16f0c39",
   "metadata": {},
   "outputs": [],
   "source": [
    "df1['review'].to_csv('리뷰_예사비베스트_감성분석용.csv', index=False)"
   ]
  },
  {
   "cell_type": "code",
   "execution_count": 18,
   "id": "064c43a0",
   "metadata": {},
   "outputs": [
    {
     "data": {
      "text/html": [
       "<div>\n",
       "<style scoped>\n",
       "    .dataframe tbody tr th:only-of-type {\n",
       "        vertical-align: middle;\n",
       "    }\n",
       "\n",
       "    .dataframe tbody tr th {\n",
       "        vertical-align: top;\n",
       "    }\n",
       "\n",
       "    .dataframe thead th {\n",
       "        text-align: right;\n",
       "    }\n",
       "</style>\n",
       "<table border=\"1\" class=\"dataframe\">\n",
       "  <thead>\n",
       "    <tr style=\"text-align: right;\">\n",
       "      <th></th>\n",
       "      <th>review</th>\n",
       "    </tr>\n",
       "  </thead>\n",
       "  <tbody>\n",
       "    <tr>\n",
       "      <th>0</th>\n",
       "      <td>얇지만 생각할것이 많은 책입니다 감정과잉이 일어나지않게 올해는 유연하게 살아보려해요</td>\n",
       "    </tr>\n",
       "    <tr>\n",
       "      <th>1</th>\n",
       "      <td>우리는 모두 피로한가</td>\n",
       "    </tr>\n",
       "    <tr>\n",
       "      <th>2</th>\n",
       "      <td>일독을 권합니다</td>\n",
       "    </tr>\n",
       "    <tr>\n",
       "      <th>3</th>\n",
       "      <td>철학적 사고의 동기부여가 된 책</td>\n",
       "    </tr>\n",
       "    <tr>\n",
       "      <th>4</th>\n",
       "      <td>이 시대 최고의 책으로 지정합시다</td>\n",
       "    </tr>\n",
       "    <tr>\n",
       "      <th>...</th>\n",
       "      <td>...</td>\n",
       "    </tr>\n",
       "    <tr>\n",
       "      <th>268461</th>\n",
       "      <td>혜다 출판사에서 출간된 곽해선 작가님의 경제기사 궁금증 300문 300답 리뷰입니다...</td>\n",
       "    </tr>\n",
       "    <tr>\n",
       "      <th>268462</th>\n",
       "      <td>경제기사 궁금증 300문 300답 리뷰합니다 살면서 경제에 관심을 가져 본 적이 없...</td>\n",
       "    </tr>\n",
       "    <tr>\n",
       "      <th>268463</th>\n",
       "      <td>비전공자와 초보자에게 경제라는 분야는 늘 어렵고 막연하게 느껴집니다 하지만 그러한 ...</td>\n",
       "    </tr>\n",
       "    <tr>\n",
       "      <th>268464</th>\n",
       "      <td>저자는 경제를 알면 세상을 꿰뚫어 보는 안목이 생긴다고 주장하고 있다따라서 저자는 ...</td>\n",
       "    </tr>\n",
       "    <tr>\n",
       "      <th>268465</th>\n",
       "      <td>순수 이과인이라 경제 상식이 부족하여 구매했는데 바쁘다는 핑계로 아직 다 못읽었네요...</td>\n",
       "    </tr>\n",
       "  </tbody>\n",
       "</table>\n",
       "<p>268466 rows × 1 columns</p>\n",
       "</div>"
      ],
      "text/plain": [
       "                                                   review\n",
       "0          얇지만 생각할것이 많은 책입니다 감정과잉이 일어나지않게 올해는 유연하게 살아보려해요\n",
       "1                                             우리는 모두 피로한가\n",
       "2                                                일독을 권합니다\n",
       "3                                       철학적 사고의 동기부여가 된 책\n",
       "4                                      이 시대 최고의 책으로 지정합시다\n",
       "...                                                   ...\n",
       "268461  혜다 출판사에서 출간된 곽해선 작가님의 경제기사 궁금증 300문 300답 리뷰입니다...\n",
       "268462  경제기사 궁금증 300문 300답 리뷰합니다 살면서 경제에 관심을 가져 본 적이 없...\n",
       "268463  비전공자와 초보자에게 경제라는 분야는 늘 어렵고 막연하게 느껴집니다 하지만 그러한 ...\n",
       "268464  저자는 경제를 알면 세상을 꿰뚫어 보는 안목이 생긴다고 주장하고 있다따라서 저자는 ...\n",
       "268465  순수 이과인이라 경제 상식이 부족하여 구매했는데 바쁘다는 핑계로 아직 다 못읽었네요...\n",
       "\n",
       "[268466 rows x 1 columns]"
      ]
     },
     "execution_count": 18,
     "metadata": {},
     "output_type": "execute_result"
    }
   ],
   "source": [
    "df = pd.read_csv('리뷰_예사베스트_감성분석용.csv')\n",
    "df"
   ]
  }
 ],
 "metadata": {
  "kernelspec": {
   "display_name": "Python 3",
   "language": "python",
   "name": "python3"
  },
  "language_info": {
   "codemirror_mode": {
    "name": "ipython",
    "version": 3
   },
   "file_extension": ".py",
   "mimetype": "text/x-python",
   "name": "python",
   "nbconvert_exporter": "python",
   "pygments_lexer": "ipython3",
   "version": "3.10.1"
  }
 },
 "nbformat": 4,
 "nbformat_minor": 5
}
