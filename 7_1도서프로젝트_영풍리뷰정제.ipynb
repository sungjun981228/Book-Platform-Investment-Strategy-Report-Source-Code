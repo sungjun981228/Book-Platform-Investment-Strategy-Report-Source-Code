{
 "cells": [
  {
   "cell_type": "markdown",
   "id": "caae3cfe",
   "metadata": {},
   "source": [
    "# 정제방법\n",
    "\n",
    "- 아이디열 지우기 ✅\n",
    "- 별점 숫자 통일 (1,2,3,4,5) : 반올림으로 정제 (보류)\n",
    "- 중복리뷰 지우기 ✅\n",
    "- 리뷰같지않은거 지우기 - 종이책 어쩌구저쩌구 써있는거, 숫자 등등 ✅\n",
    "- 리뷰 누락 지우기 ✅\n",
    "- 이모지, 특수문자, 줄바꿈 제거\n",
    "- 나중에 다른 애들하고 컬럼명 통일시키기"
   ]
  },
  {
   "cell_type": "markdown",
   "id": "47f9f001",
   "metadata": {},
   "source": [
    "### 데이터프레임 목록\n",
    "- yp_review_best : 베스트셀러 리뷰\n",
    "- yp_review_notbest : 비베스트셀러 리뷰"
   ]
  },
  {
   "cell_type": "code",
   "execution_count": 1,
   "id": "0da1f621",
   "metadata": {},
   "outputs": [],
   "source": [
    "import pandas as pd"
   ]
  },
  {
   "cell_type": "markdown",
   "id": "1a7deccc",
   "metadata": {},
   "source": [
    "# 베스트셀러"
   ]
  },
  {
   "cell_type": "code",
   "execution_count": 3,
   "id": "657b289a",
   "metadata": {},
   "outputs": [
    {
     "name": "stdout",
     "output_type": "stream",
     "text": [
      "<class 'pandas.core.frame.DataFrame'>\n",
      "RangeIndex: 3077 entries, 0 to 3076\n",
      "Data columns (total 4 columns):\n",
      " #   Column   Non-Null Count  Dtype  \n",
      "---  ------   --------------  -----  \n",
      " 0   ISBN     3077 non-null   int64  \n",
      " 1   Star     3037 non-null   float64\n",
      " 2   Nick     3037 non-null   object \n",
      " 3   Content  3037 non-null   object \n",
      "dtypes: float64(1), int64(1), object(2)\n",
      "memory usage: 96.3+ KB\n"
     ]
    }
   ],
   "source": [
    "yp_review_best = pd.read_csv('[영풍]리뷰_베스트셀러.csv')\n",
    "yp_review_best.info()"
   ]
  },
  {
   "cell_type": "markdown",
   "id": "6c3d826c",
   "metadata": {},
   "source": [
    "## Nick열 지우기"
   ]
  },
  {
   "cell_type": "code",
   "execution_count": 4,
   "id": "8a9af79f",
   "metadata": {},
   "outputs": [],
   "source": [
    "yp_review_best = yp_review_best.drop(['Nick'], axis = 1)"
   ]
  },
  {
   "cell_type": "markdown",
   "id": "971df908",
   "metadata": {},
   "source": [
    "## 열 이름 변경"
   ]
  },
  {
   "cell_type": "code",
   "execution_count": 5,
   "id": "af53d0ea",
   "metadata": {},
   "outputs": [],
   "source": [
    "yp_review_best.rename(columns={\n",
    "    'ISBN': 'isbn',\n",
    "    'Content': 'review',\n",
    "    'Star' : 'rating'\n",
    "}, inplace=True)"
   ]
  },
  {
   "cell_type": "markdown",
   "id": "4a034f9d",
   "metadata": {},
   "source": [
    "## 열 순서 변경"
   ]
  },
  {
   "cell_type": "code",
   "execution_count": 6,
   "id": "e36a3571",
   "metadata": {},
   "outputs": [],
   "source": [
    "yp_review_best = yp_review_best[['isbn', 'review', 'rating']]"
   ]
  },
  {
   "cell_type": "code",
   "execution_count": 7,
   "id": "71a71d04",
   "metadata": {},
   "outputs": [
    {
     "data": {
      "text/html": [
       "<div>\n",
       "<style scoped>\n",
       "    .dataframe tbody tr th:only-of-type {\n",
       "        vertical-align: middle;\n",
       "    }\n",
       "\n",
       "    .dataframe tbody tr th {\n",
       "        vertical-align: top;\n",
       "    }\n",
       "\n",
       "    .dataframe thead th {\n",
       "        text-align: right;\n",
       "    }\n",
       "</style>\n",
       "<table border=\"1\" class=\"dataframe\">\n",
       "  <thead>\n",
       "    <tr style=\"text-align: right;\">\n",
       "      <th></th>\n",
       "      <th>isbn</th>\n",
       "      <th>review</th>\n",
       "      <th>rating</th>\n",
       "    </tr>\n",
       "  </thead>\n",
       "  <tbody>\n",
       "    <tr>\n",
       "      <th>0</th>\n",
       "      <td>9788937460197</td>\n",
       "      <td>어딘지 모르는 무인도에 랠프일행을 태운 비행기의 일부분이 추락했다\\n금발의 소년인 ...</td>\n",
       "      <td>5.0</td>\n",
       "    </tr>\n",
       "    <tr>\n",
       "      <th>1</th>\n",
       "      <td>9788983945068</td>\n",
       "      <td>부담없이 청소년기 딸과 함께 읽을 수 있는 이야기로 추천할 도서입니다</td>\n",
       "      <td>5.0</td>\n",
       "    </tr>\n",
       "    <tr>\n",
       "      <th>2</th>\n",
       "      <td>9788932020006</td>\n",
       "      <td>한강작가님의 작품  잘 읽었네요.</td>\n",
       "      <td>5.0</td>\n",
       "    </tr>\n",
       "    <tr>\n",
       "      <th>3</th>\n",
       "      <td>9788932020006</td>\n",
       "      <td>한강의 바람이 분다, 가라는 상실과 기억, 그리고 그리움의 파편들로 엮인 작품이다....</td>\n",
       "      <td>5.0</td>\n",
       "    </tr>\n",
       "    <tr>\n",
       "      <th>4</th>\n",
       "      <td>9788932020006</td>\n",
       "      <td>한강 작가님 책 중, 젤 첫번째 읽고 신선한 충격이었던 \"바람이 분다, 가라\" 인생...</td>\n",
       "      <td>5.0</td>\n",
       "    </tr>\n",
       "    <tr>\n",
       "      <th>...</th>\n",
       "      <td>...</td>\n",
       "      <td>...</td>\n",
       "      <td>...</td>\n",
       "    </tr>\n",
       "    <tr>\n",
       "      <th>3072</th>\n",
       "      <td>9791171712946</td>\n",
       "      <td>1권을 너무 재미있게 읽어서 2권 나온거 알고 자기 용돈으로 바로 구매했습니다!! ...</td>\n",
       "      <td>5.0</td>\n",
       "    </tr>\n",
       "    <tr>\n",
       "      <th>3073</th>\n",
       "      <td>9791171712946</td>\n",
       "      <td>아이가 재미있다고 좋아하네요 3권도 사줘야겠네요</td>\n",
       "      <td>5.0</td>\n",
       "    </tr>\n",
       "    <tr>\n",
       "      <th>3074</th>\n",
       "      <td>9788936443368</td>\n",
       "      <td>와니니 신작은 언제쯤?</td>\n",
       "      <td>4.0</td>\n",
       "    </tr>\n",
       "    <tr>\n",
       "      <th>3075</th>\n",
       "      <td>9791164052578</td>\n",
       "      <td>허브와독초 웨일즈인과 잉글랜드 의 묘한 지배 피지배 관계 상속자 유산 캐드펠의 첫사...</td>\n",
       "      <td>5.0</td>\n",
       "    </tr>\n",
       "    <tr>\n",
       "      <th>3076</th>\n",
       "      <td>9791164052592</td>\n",
       "      <td>시리즈 중 가장 흥미로운 내용  나환자 요양소에 새 인물이 들어오고 누가봐도 이상한...</td>\n",
       "      <td>5.0</td>\n",
       "    </tr>\n",
       "  </tbody>\n",
       "</table>\n",
       "<p>3077 rows × 3 columns</p>\n",
       "</div>"
      ],
      "text/plain": [
       "               isbn                                             review  rating\n",
       "0     9788937460197  어딘지 모르는 무인도에 랠프일행을 태운 비행기의 일부분이 추락했다\\n금발의 소년인 ...     5.0\n",
       "1     9788983945068             부담없이 청소년기 딸과 함께 읽을 수 있는 이야기로 추천할 도서입니다     5.0\n",
       "2     9788932020006                                 한강작가님의 작품  잘 읽었네요.     5.0\n",
       "3     9788932020006  한강의 바람이 분다, 가라는 상실과 기억, 그리고 그리움의 파편들로 엮인 작품이다....     5.0\n",
       "4     9788932020006  한강 작가님 책 중, 젤 첫번째 읽고 신선한 충격이었던 \"바람이 분다, 가라\" 인생...     5.0\n",
       "...             ...                                                ...     ...\n",
       "3072  9791171712946  1권을 너무 재미있게 읽어서 2권 나온거 알고 자기 용돈으로 바로 구매했습니다!! ...     5.0\n",
       "3073  9791171712946                         아이가 재미있다고 좋아하네요 3권도 사줘야겠네요     5.0\n",
       "3074  9788936443368                                       와니니 신작은 언제쯤?     4.0\n",
       "3075  9791164052578  허브와독초 웨일즈인과 잉글랜드 의 묘한 지배 피지배 관계 상속자 유산 캐드펠의 첫사...     5.0\n",
       "3076  9791164052592  시리즈 중 가장 흥미로운 내용  나환자 요양소에 새 인물이 들어오고 누가봐도 이상한...     5.0\n",
       "\n",
       "[3077 rows x 3 columns]"
      ]
     },
     "execution_count": 7,
     "metadata": {},
     "output_type": "execute_result"
    }
   ],
   "source": [
    "yp_review_best"
   ]
  },
  {
   "cell_type": "markdown",
   "id": "a88b379d",
   "metadata": {},
   "source": [
    "## 중복 행 지우기"
   ]
  },
  {
   "cell_type": "code",
   "execution_count": 8,
   "id": "988cbdec",
   "metadata": {},
   "outputs": [],
   "source": [
    "yp_review_best = yp_review_best.drop_duplicates()"
   ]
  },
  {
   "cell_type": "markdown",
   "id": "be8534b6",
   "metadata": {},
   "source": [
    "## 누락 행 지우기"
   ]
  },
  {
   "cell_type": "code",
   "execution_count": 10,
   "id": "a8499756",
   "metadata": {},
   "outputs": [],
   "source": [
    "yp_review_best = yp_review_best[~yp_review_best['review'].isna()]"
   ]
  },
  {
   "cell_type": "code",
   "execution_count": 11,
   "id": "5a65f00b",
   "metadata": {},
   "outputs": [
    {
     "name": "stdout",
     "output_type": "stream",
     "text": [
      "<class 'pandas.core.frame.DataFrame'>\n",
      "Index: 3037 entries, 0 to 3076\n",
      "Data columns (total 3 columns):\n",
      " #   Column  Non-Null Count  Dtype  \n",
      "---  ------  --------------  -----  \n",
      " 0   isbn    3037 non-null   int64  \n",
      " 1   review  3037 non-null   object \n",
      " 2   rating  3037 non-null   float64\n",
      "dtypes: float64(1), int64(1), object(1)\n",
      "memory usage: 94.9+ KB\n"
     ]
    }
   ],
   "source": [
    "yp_review_best.info()"
   ]
  },
  {
   "cell_type": "markdown",
   "id": "0e55d8b0",
   "metadata": {},
   "source": [
    "# 숫자 행 지우기"
   ]
  },
  {
   "cell_type": "code",
   "execution_count": 13,
   "id": "06b7cc26",
   "metadata": {},
   "outputs": [],
   "source": [
    "yp_review_best = yp_review_best[~yp_review_best['review'].fillna(\"\").astype(str).str.match(r'^\\d+$')]"
   ]
  },
  {
   "cell_type": "markdown",
   "id": "42853847",
   "metadata": {},
   "source": [
    "## 이모지, 특문, 공백 제거"
   ]
  },
  {
   "cell_type": "code",
   "execution_count": 15,
   "id": "e287a986",
   "metadata": {},
   "outputs": [],
   "source": [
    "import re\n",
    "\n",
    "def cleansing(text):\n",
    "    if pd.isnull(text):\n",
    "        return text\n",
    "\n",
    "    # 1. 줄바꿈 문자 제거\n",
    "    text = text.replace('\\n', ' ').replace('\\r', ' ')\n",
    "\n",
    "    # 2. 이모지 제거 (유니코드 기반)\n",
    "    text = re.sub(r'[\\U00010000-\\U0010ffff]', '', text)\n",
    "\n",
    "    # 3. 특수문자 제거 (한글, 영문, 숫자, 공백만 남김)\n",
    "    text = re.sub(r'[^가-힣a-zA-Z0-9\\s]', '', text)\n",
    "\n",
    "    # 4. 공백 여러 개 → 하나로 압축\n",
    "    text = re.sub(r'\\s+', ' ', text).strip()\n",
    "\n",
    "    return text"
   ]
  },
  {
   "cell_type": "code",
   "execution_count": 16,
   "id": "66bb4194",
   "metadata": {},
   "outputs": [],
   "source": [
    "yp_review_best['review'] = yp_review_best['review'].apply(cleansing)"
   ]
  },
  {
   "cell_type": "code",
   "execution_count": 28,
   "id": "47fa0cb9",
   "metadata": {},
   "outputs": [],
   "source": [
    "yp_review_best['rating'] = yp_review_best['rating'].astype(int)"
   ]
  },
  {
   "cell_type": "code",
   "execution_count": 29,
   "id": "146e905e",
   "metadata": {},
   "outputs": [
    {
     "data": {
      "text/html": [
       "<div>\n",
       "<style scoped>\n",
       "    .dataframe tbody tr th:only-of-type {\n",
       "        vertical-align: middle;\n",
       "    }\n",
       "\n",
       "    .dataframe tbody tr th {\n",
       "        vertical-align: top;\n",
       "    }\n",
       "\n",
       "    .dataframe thead th {\n",
       "        text-align: right;\n",
       "    }\n",
       "</style>\n",
       "<table border=\"1\" class=\"dataframe\">\n",
       "  <thead>\n",
       "    <tr style=\"text-align: right;\">\n",
       "      <th></th>\n",
       "      <th>isbn</th>\n",
       "      <th>review</th>\n",
       "      <th>rating</th>\n",
       "    </tr>\n",
       "  </thead>\n",
       "  <tbody>\n",
       "    <tr>\n",
       "      <th>0</th>\n",
       "      <td>9788937460197</td>\n",
       "      <td>어딘지 모르는 무인도에 랠프일행을 태운 비행기의 일부분이 추락했다 금발의 소년인 랠...</td>\n",
       "      <td>5</td>\n",
       "    </tr>\n",
       "    <tr>\n",
       "      <th>1</th>\n",
       "      <td>9788983945068</td>\n",
       "      <td>부담없이 청소년기 딸과 함께 읽을 수 있는 이야기로 추천할 도서입니다</td>\n",
       "      <td>5</td>\n",
       "    </tr>\n",
       "    <tr>\n",
       "      <th>2</th>\n",
       "      <td>9788932020006</td>\n",
       "      <td>한강작가님의 작품 잘 읽었네요</td>\n",
       "      <td>5</td>\n",
       "    </tr>\n",
       "    <tr>\n",
       "      <th>3</th>\n",
       "      <td>9788932020006</td>\n",
       "      <td>한강의 바람이 분다 가라는 상실과 기억 그리고 그리움의 파편들로 엮인 작품이다 소설...</td>\n",
       "      <td>5</td>\n",
       "    </tr>\n",
       "    <tr>\n",
       "      <th>4</th>\n",
       "      <td>9788932020006</td>\n",
       "      <td>한강 작가님 책 중 젤 첫번째 읽고 신선한 충격이었던 바람이 분다 가라 인생사 희로...</td>\n",
       "      <td>5</td>\n",
       "    </tr>\n",
       "    <tr>\n",
       "      <th>...</th>\n",
       "      <td>...</td>\n",
       "      <td>...</td>\n",
       "      <td>...</td>\n",
       "    </tr>\n",
       "    <tr>\n",
       "      <th>3072</th>\n",
       "      <td>9791171712946</td>\n",
       "      <td>1권을 너무 재미있게 읽어서 2권 나온거 알고 자기 용돈으로 바로 구매했습니다 용돈...</td>\n",
       "      <td>5</td>\n",
       "    </tr>\n",
       "    <tr>\n",
       "      <th>3073</th>\n",
       "      <td>9791171712946</td>\n",
       "      <td>아이가 재미있다고 좋아하네요 3권도 사줘야겠네요</td>\n",
       "      <td>5</td>\n",
       "    </tr>\n",
       "    <tr>\n",
       "      <th>3074</th>\n",
       "      <td>9788936443368</td>\n",
       "      <td>와니니 신작은 언제쯤</td>\n",
       "      <td>4</td>\n",
       "    </tr>\n",
       "    <tr>\n",
       "      <th>3075</th>\n",
       "      <td>9791164052578</td>\n",
       "      <td>허브와독초 웨일즈인과 잉글랜드 의 묘한 지배 피지배 관계 상속자 유산 캐드펠의 첫사...</td>\n",
       "      <td>5</td>\n",
       "    </tr>\n",
       "    <tr>\n",
       "      <th>3076</th>\n",
       "      <td>9791164052592</td>\n",
       "      <td>시리즈 중 가장 흥미로운 내용 나환자 요양소에 새 인물이 들어오고 누가봐도 이상한 ...</td>\n",
       "      <td>5</td>\n",
       "    </tr>\n",
       "  </tbody>\n",
       "</table>\n",
       "<p>3036 rows × 3 columns</p>\n",
       "</div>"
      ],
      "text/plain": [
       "               isbn                                             review  rating\n",
       "0     9788937460197  어딘지 모르는 무인도에 랠프일행을 태운 비행기의 일부분이 추락했다 금발의 소년인 랠...       5\n",
       "1     9788983945068             부담없이 청소년기 딸과 함께 읽을 수 있는 이야기로 추천할 도서입니다       5\n",
       "2     9788932020006                                   한강작가님의 작품 잘 읽었네요       5\n",
       "3     9788932020006  한강의 바람이 분다 가라는 상실과 기억 그리고 그리움의 파편들로 엮인 작품이다 소설...       5\n",
       "4     9788932020006  한강 작가님 책 중 젤 첫번째 읽고 신선한 충격이었던 바람이 분다 가라 인생사 희로...       5\n",
       "...             ...                                                ...     ...\n",
       "3072  9791171712946  1권을 너무 재미있게 읽어서 2권 나온거 알고 자기 용돈으로 바로 구매했습니다 용돈...       5\n",
       "3073  9791171712946                         아이가 재미있다고 좋아하네요 3권도 사줘야겠네요       5\n",
       "3074  9788936443368                                        와니니 신작은 언제쯤       4\n",
       "3075  9791164052578  허브와독초 웨일즈인과 잉글랜드 의 묘한 지배 피지배 관계 상속자 유산 캐드펠의 첫사...       5\n",
       "3076  9791164052592  시리즈 중 가장 흥미로운 내용 나환자 요양소에 새 인물이 들어오고 누가봐도 이상한 ...       5\n",
       "\n",
       "[3036 rows x 3 columns]"
      ]
     },
     "execution_count": 29,
     "metadata": {},
     "output_type": "execute_result"
    }
   ],
   "source": [
    "yp_review_best"
   ]
  },
  {
   "cell_type": "markdown",
   "id": "0eab1a09",
   "metadata": {},
   "source": [
    "---\n",
    "# 비베스트셀러"
   ]
  },
  {
   "cell_type": "code",
   "execution_count": 18,
   "id": "76d3e2d8",
   "metadata": {},
   "outputs": [
    {
     "name": "stdout",
     "output_type": "stream",
     "text": [
      "<class 'pandas.core.frame.DataFrame'>\n",
      "RangeIndex: 387 entries, 0 to 386\n",
      "Data columns (total 4 columns):\n",
      " #   Column   Non-Null Count  Dtype \n",
      "---  ------   --------------  ----- \n",
      " 0   ISBN     387 non-null    int64 \n",
      " 1   Star     387 non-null    int64 \n",
      " 2   Nick     387 non-null    object\n",
      " 3   Content  387 non-null    object\n",
      "dtypes: int64(2), object(2)\n",
      "memory usage: 12.2+ KB\n"
     ]
    }
   ],
   "source": [
    "yp_review_notbest = pd.read_csv('[영풍]리뷰_비베스트셀러.csv')\n",
    "yp_review_notbest.info()"
   ]
  },
  {
   "cell_type": "code",
   "execution_count": 19,
   "id": "90cde8bc",
   "metadata": {},
   "outputs": [],
   "source": [
    "# Nick열 지우기\n",
    "yp_review_notbest = yp_review_notbest.drop(['Nick'], axis = 1)"
   ]
  },
  {
   "cell_type": "code",
   "execution_count": 20,
   "id": "4de4ea25",
   "metadata": {},
   "outputs": [
    {
     "data": {
      "text/html": [
       "<div>\n",
       "<style scoped>\n",
       "    .dataframe tbody tr th:only-of-type {\n",
       "        vertical-align: middle;\n",
       "    }\n",
       "\n",
       "    .dataframe tbody tr th {\n",
       "        vertical-align: top;\n",
       "    }\n",
       "\n",
       "    .dataframe thead th {\n",
       "        text-align: right;\n",
       "    }\n",
       "</style>\n",
       "<table border=\"1\" class=\"dataframe\">\n",
       "  <thead>\n",
       "    <tr style=\"text-align: right;\">\n",
       "      <th></th>\n",
       "      <th>isbn</th>\n",
       "      <th>review</th>\n",
       "      <th>rating</th>\n",
       "    </tr>\n",
       "  </thead>\n",
       "  <tbody>\n",
       "    <tr>\n",
       "      <th>0</th>\n",
       "      <td>9788957591840</td>\n",
       "      <td>1권만 사서 읽어봤는데요\\n별로 2권까지 사서 읽어보고 싶지 않네요\\n좀 실망입니다.</td>\n",
       "      <td>2</td>\n",
       "    </tr>\n",
       "    <tr>\n",
       "      <th>1</th>\n",
       "      <td>9788954657983</td>\n",
       "      <td>백석의 소설과 수필의 정수를 맛볼 진수성찬이 차려졌다. 백석 시인의 강한 개성을 보...</td>\n",
       "      <td>5</td>\n",
       "    </tr>\n",
       "    <tr>\n",
       "      <th>2</th>\n",
       "      <td>9788954657983</td>\n",
       "      <td>백석 고유의 어휘를 살리면서도 곳곳에 작품을 잘 이해할 수 있도록 돕는 어휘 설명과...</td>\n",
       "      <td>5</td>\n",
       "    </tr>\n",
       "    <tr>\n",
       "      <th>3</th>\n",
       "      <td>9788954657983</td>\n",
       "      <td>백석은 시와 마찬가지로 소설과 수필에서도 허투루 쓴 작품이 없다.  소설은 물론 수...</td>\n",
       "      <td>5</td>\n",
       "    </tr>\n",
       "    <tr>\n",
       "      <th>4</th>\n",
       "      <td>9788954657983</td>\n",
       "      <td>시나 소설을 비롯한 문학작품을 읽게 되면, 나 혼자만이 오롯이 느끼는 감정도 소중하...</td>\n",
       "      <td>5</td>\n",
       "    </tr>\n",
       "    <tr>\n",
       "      <th>...</th>\n",
       "      <td>...</td>\n",
       "      <td>...</td>\n",
       "      <td>...</td>\n",
       "    </tr>\n",
       "    <tr>\n",
       "      <th>382</th>\n",
       "      <td>9791191157017</td>\n",
       "      <td>이 전에 공간은 음식점이면 음식을 먹기만을 위한 공간으로만 정의가 되었고, 그곳을 ...</td>\n",
       "      <td>5</td>\n",
       "    </tr>\n",
       "    <tr>\n",
       "      <th>383</th>\n",
       "      <td>9791191157017</td>\n",
       "      <td>자주가는 연남동에 참기름 파는 공간을 새로운 시각으로 설명해주어서 색다르고 신선했어...</td>\n",
       "      <td>5</td>\n",
       "    </tr>\n",
       "    <tr>\n",
       "      <th>384</th>\n",
       "      <td>9791191157017</td>\n",
       "      <td>공간에 대한 의미를 알 수 있게 되어서 좋아요 책에 나온 곳들 한번씩 다 방문해보고...</td>\n",
       "      <td>5</td>\n",
       "    </tr>\n",
       "    <tr>\n",
       "      <th>385</th>\n",
       "      <td>9788931556179</td>\n",
       "      <td>책이 참 쉽게 구성되어 있어서 좋습니다. 그리고 기존의 책들은 기계도면이나 건축도면...</td>\n",
       "      <td>5</td>\n",
       "    </tr>\n",
       "    <tr>\n",
       "      <th>386</th>\n",
       "      <td>9791157683260</td>\n",
       "      <td>문장마다 예쁜 그림이있어서 눈호강하며 공부할수있다.\\n 짧은문장이지만 문법적 설명이...</td>\n",
       "      <td>5</td>\n",
       "    </tr>\n",
       "  </tbody>\n",
       "</table>\n",
       "<p>387 rows × 3 columns</p>\n",
       "</div>"
      ],
      "text/plain": [
       "              isbn                                             review  rating\n",
       "0    9788957591840    1권만 사서 읽어봤는데요\\n별로 2권까지 사서 읽어보고 싶지 않네요\\n좀 실망입니다.       2\n",
       "1    9788954657983  백석의 소설과 수필의 정수를 맛볼 진수성찬이 차려졌다. 백석 시인의 강한 개성을 보...       5\n",
       "2    9788954657983  백석 고유의 어휘를 살리면서도 곳곳에 작품을 잘 이해할 수 있도록 돕는 어휘 설명과...       5\n",
       "3    9788954657983  백석은 시와 마찬가지로 소설과 수필에서도 허투루 쓴 작품이 없다.  소설은 물론 수...       5\n",
       "4    9788954657983  시나 소설을 비롯한 문학작품을 읽게 되면, 나 혼자만이 오롯이 느끼는 감정도 소중하...       5\n",
       "..             ...                                                ...     ...\n",
       "382  9791191157017  이 전에 공간은 음식점이면 음식을 먹기만을 위한 공간으로만 정의가 되었고, 그곳을 ...       5\n",
       "383  9791191157017  자주가는 연남동에 참기름 파는 공간을 새로운 시각으로 설명해주어서 색다르고 신선했어...       5\n",
       "384  9791191157017  공간에 대한 의미를 알 수 있게 되어서 좋아요 책에 나온 곳들 한번씩 다 방문해보고...       5\n",
       "385  9788931556179  책이 참 쉽게 구성되어 있어서 좋습니다. 그리고 기존의 책들은 기계도면이나 건축도면...       5\n",
       "386  9791157683260  문장마다 예쁜 그림이있어서 눈호강하며 공부할수있다.\\n 짧은문장이지만 문법적 설명이...       5\n",
       "\n",
       "[387 rows x 3 columns]"
      ]
     },
     "execution_count": 20,
     "metadata": {},
     "output_type": "execute_result"
    }
   ],
   "source": [
    "# 열 이름 변경\n",
    "yp_review_notbest.rename(columns={\n",
    "    'ISBN': 'isbn',\n",
    "    'Content': 'review',\n",
    "    'Star' : 'rating'\n",
    "}, inplace=True)\n",
    "\n",
    "# 열 순서 변경\n",
    "yp_review_notbest = yp_review_notbest[['isbn', 'review', 'rating']]\n",
    "yp_review_notbest"
   ]
  },
  {
   "cell_type": "code",
   "execution_count": 21,
   "id": "c29542f6",
   "metadata": {},
   "outputs": [],
   "source": [
    "# 중복 행 지우기\n",
    "yp_review_notbest = yp_review_notbest.drop_duplicates()\n",
    "\n",
    "# 누락 행 지우기\n",
    "yp_review_notbest = yp_review_notbest[~yp_review_notbest['review'].isna()]"
   ]
  },
  {
   "cell_type": "code",
   "execution_count": 23,
   "id": "1ed4fb42",
   "metadata": {},
   "outputs": [],
   "source": [
    "# 숫자 행 지우기\n",
    "yp_review_notbest = yp_review_notbest[~yp_review_notbest['review'].fillna(\"\").astype(str).str.match(r'^\\d+$')]"
   ]
  },
  {
   "cell_type": "code",
   "execution_count": 24,
   "id": "f54336a3",
   "metadata": {},
   "outputs": [],
   "source": [
    "# 이모지특문공백제거\n",
    "yp_review_notbest['review'] = yp_review_notbest['review'].apply(cleansing)"
   ]
  },
  {
   "cell_type": "code",
   "execution_count": 32,
   "id": "31389b16",
   "metadata": {},
   "outputs": [
    {
     "data": {
      "text/html": [
       "<div>\n",
       "<style scoped>\n",
       "    .dataframe tbody tr th:only-of-type {\n",
       "        vertical-align: middle;\n",
       "    }\n",
       "\n",
       "    .dataframe tbody tr th {\n",
       "        vertical-align: top;\n",
       "    }\n",
       "\n",
       "    .dataframe thead th {\n",
       "        text-align: right;\n",
       "    }\n",
       "</style>\n",
       "<table border=\"1\" class=\"dataframe\">\n",
       "  <thead>\n",
       "    <tr style=\"text-align: right;\">\n",
       "      <th></th>\n",
       "      <th>isbn</th>\n",
       "      <th>review</th>\n",
       "      <th>rating</th>\n",
       "    </tr>\n",
       "  </thead>\n",
       "  <tbody>\n",
       "    <tr>\n",
       "      <th>0</th>\n",
       "      <td>9788957591840</td>\n",
       "      <td>1권만 사서 읽어봤는데요 별로 2권까지 사서 읽어보고 싶지 않네요 좀 실망입니다</td>\n",
       "      <td>2</td>\n",
       "    </tr>\n",
       "    <tr>\n",
       "      <th>1</th>\n",
       "      <td>9788954657983</td>\n",
       "      <td>백석의 소설과 수필의 정수를 맛볼 진수성찬이 차려졌다 백석 시인의 강한 개성을 보여...</td>\n",
       "      <td>5</td>\n",
       "    </tr>\n",
       "    <tr>\n",
       "      <th>2</th>\n",
       "      <td>9788954657983</td>\n",
       "      <td>백석 고유의 어휘를 살리면서도 곳곳에 작품을 잘 이해할 수 있도록 돕는 어휘 설명과...</td>\n",
       "      <td>5</td>\n",
       "    </tr>\n",
       "    <tr>\n",
       "      <th>3</th>\n",
       "      <td>9788954657983</td>\n",
       "      <td>백석은 시와 마찬가지로 소설과 수필에서도 허투루 쓴 작품이 없다 소설은 물론 수필에...</td>\n",
       "      <td>5</td>\n",
       "    </tr>\n",
       "    <tr>\n",
       "      <th>4</th>\n",
       "      <td>9788954657983</td>\n",
       "      <td>시나 소설을 비롯한 문학작품을 읽게 되면 나 혼자만이 오롯이 느끼는 감정도 소중하지...</td>\n",
       "      <td>5</td>\n",
       "    </tr>\n",
       "    <tr>\n",
       "      <th>...</th>\n",
       "      <td>...</td>\n",
       "      <td>...</td>\n",
       "      <td>...</td>\n",
       "    </tr>\n",
       "    <tr>\n",
       "      <th>382</th>\n",
       "      <td>9791191157017</td>\n",
       "      <td>이 전에 공간은 음식점이면 음식을 먹기만을 위한 공간으로만 정의가 되었고 그곳을 가...</td>\n",
       "      <td>5</td>\n",
       "    </tr>\n",
       "    <tr>\n",
       "      <th>383</th>\n",
       "      <td>9791191157017</td>\n",
       "      <td>자주가는 연남동에 참기름 파는 공간을 새로운 시각으로 설명해주어서 색다르고 신선했어...</td>\n",
       "      <td>5</td>\n",
       "    </tr>\n",
       "    <tr>\n",
       "      <th>384</th>\n",
       "      <td>9791191157017</td>\n",
       "      <td>공간에 대한 의미를 알 수 있게 되어서 좋아요 책에 나온 곳들 한번씩 다 방문해보고싶네용</td>\n",
       "      <td>5</td>\n",
       "    </tr>\n",
       "    <tr>\n",
       "      <th>385</th>\n",
       "      <td>9788931556179</td>\n",
       "      <td>책이 참 쉽게 구성되어 있어서 좋습니다 그리고 기존의 책들은 기계도면이나 건축도면 ...</td>\n",
       "      <td>5</td>\n",
       "    </tr>\n",
       "    <tr>\n",
       "      <th>386</th>\n",
       "      <td>9791157683260</td>\n",
       "      <td>문장마다 예쁜 그림이있어서 눈호강하며 공부할수있다 짧은문장이지만 문법적 설명이있고 ...</td>\n",
       "      <td>5</td>\n",
       "    </tr>\n",
       "  </tbody>\n",
       "</table>\n",
       "<p>387 rows × 3 columns</p>\n",
       "</div>"
      ],
      "text/plain": [
       "              isbn                                             review  rating\n",
       "0    9788957591840       1권만 사서 읽어봤는데요 별로 2권까지 사서 읽어보고 싶지 않네요 좀 실망입니다       2\n",
       "1    9788954657983  백석의 소설과 수필의 정수를 맛볼 진수성찬이 차려졌다 백석 시인의 강한 개성을 보여...       5\n",
       "2    9788954657983  백석 고유의 어휘를 살리면서도 곳곳에 작품을 잘 이해할 수 있도록 돕는 어휘 설명과...       5\n",
       "3    9788954657983  백석은 시와 마찬가지로 소설과 수필에서도 허투루 쓴 작품이 없다 소설은 물론 수필에...       5\n",
       "4    9788954657983  시나 소설을 비롯한 문학작품을 읽게 되면 나 혼자만이 오롯이 느끼는 감정도 소중하지...       5\n",
       "..             ...                                                ...     ...\n",
       "382  9791191157017  이 전에 공간은 음식점이면 음식을 먹기만을 위한 공간으로만 정의가 되었고 그곳을 가...       5\n",
       "383  9791191157017  자주가는 연남동에 참기름 파는 공간을 새로운 시각으로 설명해주어서 색다르고 신선했어...       5\n",
       "384  9791191157017  공간에 대한 의미를 알 수 있게 되어서 좋아요 책에 나온 곳들 한번씩 다 방문해보고싶네용       5\n",
       "385  9788931556179  책이 참 쉽게 구성되어 있어서 좋습니다 그리고 기존의 책들은 기계도면이나 건축도면 ...       5\n",
       "386  9791157683260  문장마다 예쁜 그림이있어서 눈호강하며 공부할수있다 짧은문장이지만 문법적 설명이있고 ...       5\n",
       "\n",
       "[387 rows x 3 columns]"
      ]
     },
     "execution_count": 32,
     "metadata": {},
     "output_type": "execute_result"
    }
   ],
   "source": [
    "yp_review_notbest"
   ]
  },
  {
   "cell_type": "code",
   "execution_count": 30,
   "id": "6035ea5f",
   "metadata": {},
   "outputs": [],
   "source": [
    "yp_review_best.to_csv(\"[영풍] 베스트셀러 리뷰_1차정제.csv\", index=False, encoding='utf-8-sig')\n",
    "yp_review_notbest.to_csv(\"[영풍] 비베스트셀러 리뷰_1차정제.csv\", index=False, encoding='utf-8-sig')"
   ]
  }
 ],
 "metadata": {
  "kernelspec": {
   "display_name": "Python 3",
   "language": "python",
   "name": "python3"
  },
  "language_info": {
   "codemirror_mode": {
    "name": "ipython",
    "version": 3
   },
   "file_extension": ".py",
   "mimetype": "text/x-python",
   "name": "python",
   "nbconvert_exporter": "python",
   "pygments_lexer": "ipython3",
   "version": "3.10.1"
  }
 },
 "nbformat": 4,
 "nbformat_minor": 5
}
